{
 "cells": [
  {
   "cell_type": "markdown",
   "metadata": {
    "application/vnd.databricks.v1+cell": {
     "cellMetadata": {
      "byteLimit": 2048000,
      "rowLimit": 10000
     },
     "inputWidgets": {},
     "nuid": "1e682b80-4183-451a-8112-06f3acaf754c",
     "showTitle": false,
     "title": ""
    }
   },
   "source": [
    "\n",
    "MVP 2 - João Pedro Cunha - Julho 2024 "
   ]
  },
  {
   "cell_type": "markdown",
   "metadata": {
    "application/vnd.databricks.v1+cell": {
     "cellMetadata": {
      "byteLimit": 2048000,
      "rowLimit": 10000
     },
     "inputWidgets": {},
     "nuid": "63763cca-9d97-49cb-ada6-995c81116709",
     "showTitle": false,
     "title": ""
    }
   },
   "source": [
    "\n",
    "Detalhamento e objetivos"
   ]
  },
  {
   "cell_type": "markdown",
   "metadata": {
    "application/vnd.databricks.v1+cell": {
     "cellMetadata": {
      "byteLimit": 2048000,
      "rowLimit": 10000
     },
     "inputWidgets": {},
     "nuid": "1b1c2619-a6d7-40e3-ae9a-ae176ae1b3ad",
     "showTitle": false,
     "title": ""
    }
   },
   "source": [
    "\n",
    "Este projeto consiste em analisar dados da temporada regular e de playoffs da NBA 2021-2022. Oss datasets utilizados foram baixados diretamente do Kaggle conforme o link https://www.kaggle.com/datasets/vivovinco/nba-player-stats/data e não há licença de uso para os dados escolhidos. Os dados consistem em dois arquivos .csv com as estatísticas individuais dos jogadores da liga, sendo um para a fase regular e outro para a fase de playoffs.\n",
    "\n",
    "Este trabalho se propõe a responder as perguntas abaixo e analisar como a resposta muda em relação as diferentes fases (regular versus playoffs).\n",
    "\n",
    "1) Como as estatísticas ofensivas (pontos, assistências, número de arremessos) se relacionam com as estatísticas defensivas (roubos de bola, bloqueios) dos jogadores ? Esta informação é extremamente útil para a comissão técnica dos times envolvidos na liga.\n",
    "\n",
    "2) Quais os jogadores que mais se destacam tanto ofensivamente quanto defensivamente ? Por sua vez, esta informação é extremamente útil para os managers das equipes da liga já visando a janela de transferência de jogadores para a temporada 2022-2023.\n",
    "\n",
    "3) O desempenho dos jogadores muda com a idade ? Esta informação é extremamente pertinente para pautar uma discussão entre jornalistas durante a transmissão de um programa de televisão esportivo que aborde a NBA durante sua grade.\n",
    "\n",
    "4) Considerando a temporada completa, quais foram os três melhores jogadores da liga ?"
   ]
  },
  {
   "cell_type": "markdown",
   "metadata": {
    "application/vnd.databricks.v1+cell": {
     "cellMetadata": {
      "byteLimit": 2048000,
      "rowLimit": 10000
     },
     "inputWidgets": {},
     "nuid": "78498eb9-cf61-41ef-9ab2-3ddeb7ad0ad7",
     "showTitle": false,
     "title": ""
    }
   },
   "source": [
    "\n",
    "Coleta e armazenamento de dados na nuvem no modelo flat"
   ]
  },
  {
   "cell_type": "code",
   "execution_count": 0,
   "metadata": {
    "application/vnd.databricks.v1+cell": {
     "cellMetadata": {
      "byteLimit": 2048000,
      "rowLimit": 10000
     },
     "inputWidgets": {},
     "nuid": "bf83e6ad-6d3f-48f9-8bec-5cba017566b0",
     "showTitle": false,
     "title": ""
    }
   },
   "outputs": [
    {
     "output_type": "display_data",
     "data": {
      "text/html": [
       "<style scoped>\n",
       "  .table-result-container {\n",
       "    max-height: 300px;\n",
       "    overflow: auto;\n",
       "  }\n",
       "  table, th, td {\n",
       "    border: 1px solid black;\n",
       "    border-collapse: collapse;\n",
       "  }\n",
       "  th, td {\n",
       "    padding: 5px;\n",
       "  }\n",
       "  th {\n",
       "    text-align: left;\n",
       "  }\n",
       "</style><div class='table-result-container'><table class='table-result'><thead style='background-color: white'><tr><th>Rk</th><th>Player</th><th>Pos</th><th>Age</th><th>Tm</th><th>G</th><th>GS</th><th>MP</th><th>FG</th><th>FGA</th><th>FG%</th><th>3P</th><th>3PA</th><th>3P%</th><th>2P</th><th>2PA</th><th>2P%</th><th>eFG%</th><th>FT</th><th>FTA</th><th>FT%</th><th>ORB</th><th>DRB</th><th>TRB</th><th>AST</th><th>STL</th><th>BLK</th><th>TOV</th><th>PF</th><th>PTS</th></tr></thead><tbody><tr><td>1</td><td>Precious Achiuwa</td><td>C</td><td>22</td><td>TOR</td><td>73</td><td>28</td><td>23.6</td><td>3.6</td><td>8.3</td><td>0.439</td><td>0.8</td><td>2.1</td><td>0.359</td><td>2.9</td><td>6.1</td><td>0.468</td><td>0.486</td><td>1.1</td><td>1.8</td><td>0.595</td><td>2</td><td>4.5</td><td>6.5</td><td>1.1</td><td>0.5</td><td>0.6</td><td>1.2</td><td>2.1</td><td>9.1</td></tr><tr><td>2</td><td>Steven Adams</td><td>C</td><td>28</td><td>MEM</td><td>76</td><td>75</td><td>26.3</td><td>2.8</td><td>5.1</td><td>0.547</td><td>0</td><td>0</td><td>0</td><td>2.8</td><td>5</td><td>0.548</td><td>0.547</td><td>1.4</td><td>2.6</td><td>0.543</td><td>4.6</td><td>5.4</td><td>10</td><td>3.4</td><td>0.9</td><td>0.8</td><td>1.5</td><td>2</td><td>6.9</td></tr><tr><td>3</td><td>Bam Adebayo</td><td>C</td><td>24</td><td>MIA</td><td>56</td><td>56</td><td>32.6</td><td>7.3</td><td>13</td><td>0.557</td><td>0</td><td>0.1</td><td>0</td><td>7.3</td><td>12.9</td><td>0.562</td><td>0.557</td><td>4.6</td><td>6.1</td><td>0.753</td><td>2.4</td><td>7.6</td><td>10.1</td><td>3.4</td><td>1.4</td><td>0.8</td><td>2.6</td><td>3.1</td><td>19.1</td></tr><tr><td>4</td><td>Santi Aldama</td><td>PF</td><td>21</td><td>MEM</td><td>32</td><td>0</td><td>11.3</td><td>1.7</td><td>4.1</td><td>0.402</td><td>0.2</td><td>1.5</td><td>0.125</td><td>1.5</td><td>2.6</td><td>0.56</td><td>0.424</td><td>0.6</td><td>1</td><td>0.625</td><td>1</td><td>1.7</td><td>2.7</td><td>0.7</td><td>0.2</td><td>0.3</td><td>0.5</td><td>1.1</td><td>4.1</td></tr><tr><td>5</td><td>LaMarcus Aldridge</td><td>C</td><td>36</td><td>BRK</td><td>47</td><td>12</td><td>22.3</td><td>5.4</td><td>9.7</td><td>0.55</td><td>0.3</td><td>1</td><td>0.304</td><td>5.1</td><td>8.8</td><td>0.578</td><td>0.566</td><td>1.9</td><td>2.2</td><td>0.873</td><td>1.6</td><td>3.9</td><td>5.5</td><td>0.9</td><td>0.3</td><td>1</td><td>0.9</td><td>1.7</td><td>12.9</td></tr><tr><td>6</td><td>Nickeil Alexander-Walker</td><td>SG</td><td>23</td><td>TOT</td><td>65</td><td>21</td><td>22.6</td><td>3.9</td><td>10.5</td><td>0.372</td><td>1.6</td><td>5.2</td><td>0.311</td><td>2.3</td><td>5.3</td><td>0.433</td><td>0.449</td><td>1.2</td><td>1.7</td><td>0.743</td><td>0.6</td><td>2.3</td><td>2.9</td><td>2.4</td><td>0.7</td><td>0.4</td><td>1.4</td><td>1.6</td><td>10.6</td></tr><tr><td>6</td><td>Nickeil Alexander-Walker</td><td>SG</td><td>23</td><td>NOP</td><td>50</td><td>19</td><td>26.3</td><td>4.7</td><td>12.6</td><td>0.375</td><td>1.9</td><td>6.1</td><td>0.311</td><td>2.8</td><td>6.5</td><td>0.434</td><td>0.45</td><td>1.4</td><td>1.9</td><td>0.722</td><td>0.7</td><td>2.6</td><td>3.3</td><td>2.8</td><td>0.8</td><td>0.4</td><td>1.7</td><td>1.8</td><td>12.8</td></tr><tr><td>6</td><td>Nickeil Alexander-Walker</td><td>SG</td><td>23</td><td>UTA</td><td>15</td><td>2</td><td>9.9</td><td>1.1</td><td>3.2</td><td>0.333</td><td>0.7</td><td>2.2</td><td>0.303</td><td>0.4</td><td>1</td><td>0.4</td><td>0.438</td><td>0.7</td><td>0.8</td><td>0.917</td><td>0.1</td><td>1.5</td><td>1.5</td><td>1.1</td><td>0.3</td><td>0.3</td><td>0.5</td><td>1</td><td>3.5</td></tr><tr><td>7</td><td>Grayson Allen</td><td>SG</td><td>26</td><td>MIL</td><td>66</td><td>61</td><td>27.3</td><td>3.9</td><td>8.6</td><td>0.448</td><td>2.4</td><td>5.9</td><td>0.409</td><td>1.5</td><td>2.7</td><td>0.533</td><td>0.588</td><td>1</td><td>1.1</td><td>0.865</td><td>0.5</td><td>2.9</td><td>3.4</td><td>1.5</td><td>0.7</td><td>0.3</td><td>0.7</td><td>1.5</td><td>11.1</td></tr><tr><td>8</td><td>Jarrett Allen</td><td>C</td><td>23</td><td>CLE</td><td>56</td><td>56</td><td>32.3</td><td>6.6</td><td>9.7</td><td>0.677</td><td>0</td><td>0.2</td><td>0.1</td><td>6.6</td><td>9.6</td><td>0.688</td><td>0.678</td><td>2.9</td><td>4.2</td><td>0.708</td><td>3.4</td><td>7.3</td><td>10.8</td><td>1.6</td><td>0.8</td><td>1.3</td><td>1.7</td><td>1.7</td><td>16.1</td></tr></tbody></table></div>"
      ]
     },
     "metadata": {
      "application/vnd.databricks.v1+output": {
       "addedWidgets": {},
       "aggData": [],
       "aggError": "",
       "aggOverflow": false,
       "aggSchema": [],
       "aggSeriesLimitReached": false,
       "aggType": "",
       "arguments": {},
       "columnCustomDisplayInfos": {},
       "data": [
        [
         "1",
         "Precious Achiuwa",
         "C",
         "22",
         "TOR",
         "73",
         "28",
         "23.6",
         "3.6",
         "8.3",
         "0.439",
         "0.8",
         "2.1",
         "0.359",
         "2.9",
         "6.1",
         "0.468",
         "0.486",
         "1.1",
         "1.8",
         "0.595",
         "2",
         "4.5",
         "6.5",
         "1.1",
         "0.5",
         "0.6",
         "1.2",
         "2.1",
         "9.1"
        ],
        [
         "2",
         "Steven Adams",
         "C",
         "28",
         "MEM",
         "76",
         "75",
         "26.3",
         "2.8",
         "5.1",
         "0.547",
         "0",
         "0",
         "0",
         "2.8",
         "5",
         "0.548",
         "0.547",
         "1.4",
         "2.6",
         "0.543",
         "4.6",
         "5.4",
         "10",
         "3.4",
         "0.9",
         "0.8",
         "1.5",
         "2",
         "6.9"
        ],
        [
         "3",
         "Bam Adebayo",
         "C",
         "24",
         "MIA",
         "56",
         "56",
         "32.6",
         "7.3",
         "13",
         "0.557",
         "0",
         "0.1",
         "0",
         "7.3",
         "12.9",
         "0.562",
         "0.557",
         "4.6",
         "6.1",
         "0.753",
         "2.4",
         "7.6",
         "10.1",
         "3.4",
         "1.4",
         "0.8",
         "2.6",
         "3.1",
         "19.1"
        ],
        [
         "4",
         "Santi Aldama",
         "PF",
         "21",
         "MEM",
         "32",
         "0",
         "11.3",
         "1.7",
         "4.1",
         "0.402",
         "0.2",
         "1.5",
         "0.125",
         "1.5",
         "2.6",
         "0.56",
         "0.424",
         "0.6",
         "1",
         "0.625",
         "1",
         "1.7",
         "2.7",
         "0.7",
         "0.2",
         "0.3",
         "0.5",
         "1.1",
         "4.1"
        ],
        [
         "5",
         "LaMarcus Aldridge",
         "C",
         "36",
         "BRK",
         "47",
         "12",
         "22.3",
         "5.4",
         "9.7",
         "0.55",
         "0.3",
         "1",
         "0.304",
         "5.1",
         "8.8",
         "0.578",
         "0.566",
         "1.9",
         "2.2",
         "0.873",
         "1.6",
         "3.9",
         "5.5",
         "0.9",
         "0.3",
         "1",
         "0.9",
         "1.7",
         "12.9"
        ],
        [
         "6",
         "Nickeil Alexander-Walker",
         "SG",
         "23",
         "TOT",
         "65",
         "21",
         "22.6",
         "3.9",
         "10.5",
         "0.372",
         "1.6",
         "5.2",
         "0.311",
         "2.3",
         "5.3",
         "0.433",
         "0.449",
         "1.2",
         "1.7",
         "0.743",
         "0.6",
         "2.3",
         "2.9",
         "2.4",
         "0.7",
         "0.4",
         "1.4",
         "1.6",
         "10.6"
        ],
        [
         "6",
         "Nickeil Alexander-Walker",
         "SG",
         "23",
         "NOP",
         "50",
         "19",
         "26.3",
         "4.7",
         "12.6",
         "0.375",
         "1.9",
         "6.1",
         "0.311",
         "2.8",
         "6.5",
         "0.434",
         "0.45",
         "1.4",
         "1.9",
         "0.722",
         "0.7",
         "2.6",
         "3.3",
         "2.8",
         "0.8",
         "0.4",
         "1.7",
         "1.8",
         "12.8"
        ],
        [
         "6",
         "Nickeil Alexander-Walker",
         "SG",
         "23",
         "UTA",
         "15",
         "2",
         "9.9",
         "1.1",
         "3.2",
         "0.333",
         "0.7",
         "2.2",
         "0.303",
         "0.4",
         "1",
         "0.4",
         "0.438",
         "0.7",
         "0.8",
         "0.917",
         "0.1",
         "1.5",
         "1.5",
         "1.1",
         "0.3",
         "0.3",
         "0.5",
         "1",
         "3.5"
        ],
        [
         "7",
         "Grayson Allen",
         "SG",
         "26",
         "MIL",
         "66",
         "61",
         "27.3",
         "3.9",
         "8.6",
         "0.448",
         "2.4",
         "5.9",
         "0.409",
         "1.5",
         "2.7",
         "0.533",
         "0.588",
         "1",
         "1.1",
         "0.865",
         "0.5",
         "2.9",
         "3.4",
         "1.5",
         "0.7",
         "0.3",
         "0.7",
         "1.5",
         "11.1"
        ],
        [
         "8",
         "Jarrett Allen",
         "C",
         "23",
         "CLE",
         "56",
         "56",
         "32.3",
         "6.6",
         "9.7",
         "0.677",
         "0",
         "0.2",
         "0.1",
         "6.6",
         "9.6",
         "0.688",
         "0.678",
         "2.9",
         "4.2",
         "0.708",
         "3.4",
         "7.3",
         "10.8",
         "1.6",
         "0.8",
         "1.3",
         "1.7",
         "1.7",
         "16.1"
        ]
       ],
       "datasetInfos": [],
       "dbfsResultPath": null,
       "isJsonSchema": true,
       "metadata": {},
       "overflow": false,
       "plotOptions": {
        "customPlotOptions": {},
        "displayType": "table",
        "pivotAggregation": null,
        "pivotColumns": null,
        "xColumns": null,
        "yColumns": null
       },
       "removedWidgets": [],
       "schema": [
        {
         "metadata": "{}",
         "name": "Rk",
         "type": "\"string\""
        },
        {
         "metadata": "{}",
         "name": "Player",
         "type": "\"string\""
        },
        {
         "metadata": "{}",
         "name": "Pos",
         "type": "\"string\""
        },
        {
         "metadata": "{}",
         "name": "Age",
         "type": "\"string\""
        },
        {
         "metadata": "{}",
         "name": "Tm",
         "type": "\"string\""
        },
        {
         "metadata": "{}",
         "name": "G",
         "type": "\"string\""
        },
        {
         "metadata": "{}",
         "name": "GS",
         "type": "\"string\""
        },
        {
         "metadata": "{}",
         "name": "MP",
         "type": "\"string\""
        },
        {
         "metadata": "{}",
         "name": "FG",
         "type": "\"string\""
        },
        {
         "metadata": "{}",
         "name": "FGA",
         "type": "\"string\""
        },
        {
         "metadata": "{}",
         "name": "FG%",
         "type": "\"string\""
        },
        {
         "metadata": "{}",
         "name": "3P",
         "type": "\"string\""
        },
        {
         "metadata": "{}",
         "name": "3PA",
         "type": "\"string\""
        },
        {
         "metadata": "{}",
         "name": "3P%",
         "type": "\"string\""
        },
        {
         "metadata": "{}",
         "name": "2P",
         "type": "\"string\""
        },
        {
         "metadata": "{}",
         "name": "2PA",
         "type": "\"string\""
        },
        {
         "metadata": "{}",
         "name": "2P%",
         "type": "\"string\""
        },
        {
         "metadata": "{}",
         "name": "eFG%",
         "type": "\"string\""
        },
        {
         "metadata": "{}",
         "name": "FT",
         "type": "\"string\""
        },
        {
         "metadata": "{}",
         "name": "FTA",
         "type": "\"string\""
        },
        {
         "metadata": "{}",
         "name": "FT%",
         "type": "\"string\""
        },
        {
         "metadata": "{}",
         "name": "ORB",
         "type": "\"string\""
        },
        {
         "metadata": "{}",
         "name": "DRB",
         "type": "\"string\""
        },
        {
         "metadata": "{}",
         "name": "TRB",
         "type": "\"string\""
        },
        {
         "metadata": "{}",
         "name": "AST",
         "type": "\"string\""
        },
        {
         "metadata": "{}",
         "name": "STL",
         "type": "\"string\""
        },
        {
         "metadata": "{}",
         "name": "BLK",
         "type": "\"string\""
        },
        {
         "metadata": "{}",
         "name": "TOV",
         "type": "\"string\""
        },
        {
         "metadata": "{}",
         "name": "PF",
         "type": "\"string\""
        },
        {
         "metadata": "{}",
         "name": "PTS",
         "type": "\"string\""
        }
       ],
       "type": "table"
      }
     },
     "output_type": "display_data"
    }
   ],
   "source": [
    "# Importando dados da temporada regular\n",
    "\n",
    "# Localização e tipo do arquivo\n",
    "file_location = \"/FileStore/tables/2021_2022_NBA_Player_Stats___Regular.csv\"\n",
    "file_type = \"csv\"\n",
    "\n",
    "# Parâmetros do arquivo .csv\n",
    "infer_schema = \"false\"\n",
    "first_row_is_header = \"true\"\n",
    "delimiter = \",\"\n",
    "\n",
    "# Criando dataframe da temporada regular\n",
    "df = spark.read.format(file_type) \\\n",
    "  .option(\"inferSchema\", infer_schema) \\\n",
    "  .option(\"header\", first_row_is_header) \\\n",
    "  .option(\"sep\", \";\") \\\n",
    "  .load(file_location)\n",
    "\n",
    "display(df.head(10))"
   ]
  },
  {
   "cell_type": "code",
   "execution_count": 0,
   "metadata": {
    "application/vnd.databricks.v1+cell": {
     "cellMetadata": {
      "byteLimit": 2048000,
      "rowLimit": 10000
     },
     "inputWidgets": {},
     "nuid": "5061cc47-05eb-4bc6-a42c-0fbbfcda3b1f",
     "showTitle": false,
     "title": ""
    }
   },
   "outputs": [
    {
     "output_type": "display_data",
     "data": {
      "text/html": [
       "<style scoped>\n",
       "  .table-result-container {\n",
       "    max-height: 300px;\n",
       "    overflow: auto;\n",
       "  }\n",
       "  table, th, td {\n",
       "    border: 1px solid black;\n",
       "    border-collapse: collapse;\n",
       "  }\n",
       "  th, td {\n",
       "    padding: 5px;\n",
       "  }\n",
       "  th {\n",
       "    text-align: left;\n",
       "  }\n",
       "</style><div class='table-result-container'><table class='table-result'><thead style='background-color: white'><tr><th>Rk</th><th>Player</th><th>Pos</th><th>Age</th><th>Tm</th><th>G</th><th>GS</th><th>MP</th><th>FG</th><th>FGA</th><th>FG%</th><th>3P</th><th>3PA</th><th>3P%</th><th>2P</th><th>2PA</th><th>2P%</th><th>eFG%</th><th>FT</th><th>FTA</th><th>FT%</th><th>ORB</th><th>DRB</th><th>TRB</th><th>AST</th><th>STL</th><th>BLK</th><th>TOV</th><th>PF</th><th>PTS</th></tr></thead><tbody><tr><td>1</td><td>Precious Achiuwa</td><td>C</td><td>22</td><td>TOR</td><td>6</td><td>1</td><td>27.8</td><td>4.2</td><td>8.7</td><td>0.481</td><td>0.8</td><td>2.7</td><td>0.313</td><td>3.3</td><td>6</td><td>0.556</td><td>0.529</td><td>1</td><td>1.7</td><td>0.6</td><td>1.3</td><td>3.5</td><td>4.8</td><td>1</td><td>0.2</td><td>0.8</td><td>1.5</td><td>2.3</td><td>10.2</td></tr><tr><td>2</td><td>Steven Adams</td><td>C</td><td>28</td><td>MEM</td><td>7</td><td>5</td><td>16.3</td><td>1.3</td><td>3</td><td>0.429</td><td>0</td><td>0</td><td>0</td><td>1.3</td><td>3</td><td>0.429</td><td>0.429</td><td>0.9</td><td>1.6</td><td>0.545</td><td>2.1</td><td>4.3</td><td>6.4</td><td>2.1</td><td>0.1</td><td>0.1</td><td>0.6</td><td>1.7</td><td>3.4</td></tr><tr><td>3</td><td>Bam Adebayo</td><td>C</td><td>24</td><td>MIA</td><td>18</td><td>18</td><td>34.1</td><td>5.8</td><td>9.7</td><td>0.594</td><td>0</td><td>0.1</td><td>0</td><td>5.8</td><td>9.7</td><td>0.598</td><td>0.594</td><td>3.2</td><td>4.2</td><td>0.763</td><td>2.1</td><td>5.9</td><td>8</td><td>2.7</td><td>1</td><td>0.7</td><td>2.1</td><td>3.1</td><td>14.8</td></tr><tr><td>4</td><td>Nickeil Alexander-Walker</td><td>SG</td><td>23</td><td>UTA</td><td>1</td><td>0</td><td>5</td><td>2</td><td>2</td><td>1</td><td>0</td><td>0</td><td>0</td><td>2</td><td>2</td><td>1</td><td>1</td><td>1</td><td>1</td><td>1</td><td>0</td><td>1</td><td>1</td><td>1</td><td>1</td><td>0</td><td>0</td><td>0</td><td>5</td></tr><tr><td>5</td><td>Grayson Allen</td><td>SG</td><td>26</td><td>MIL</td><td>12</td><td>5</td><td>25.4</td><td>3.1</td><td>6.8</td><td>0.451</td><td>1.6</td><td>4</td><td>0.396</td><td>1.5</td><td>2.8</td><td>0.529</td><td>0.567</td><td>0.6</td><td>0.9</td><td>0.636</td><td>0.4</td><td>2.5</td><td>2.9</td><td>1.3</td><td>0.7</td><td>0.3</td><td>0.8</td><td>1.8</td><td>8.3</td></tr><tr><td>6</td><td>Jose Alvarado</td><td>PG</td><td>23</td><td>NOP</td><td>6</td><td>0</td><td>19.5</td><td>2.7</td><td>5.5</td><td>0.485</td><td>1</td><td>2.7</td><td>0.375</td><td>1.7</td><td>2.8</td><td>0.588</td><td>0.576</td><td>1.7</td><td>2.2</td><td>0.769</td><td>0.3</td><td>1</td><td>1.3</td><td>1.5</td><td>1.2</td><td>0.2</td><td>1.2</td><td>3</td><td>8</td></tr><tr><td>7</td><td>Kyle Anderson</td><td>PF</td><td>28</td><td>MEM</td><td>12</td><td>1</td><td>18.4</td><td>2.4</td><td>4.3</td><td>0.569</td><td>0.3</td><td>1</td><td>0.25</td><td>2.2</td><td>3.3</td><td>0.667</td><td>0.598</td><td>0.9</td><td>1.5</td><td>0.611</td><td>0.8</td><td>3.5</td><td>4.3</td><td>1.8</td><td>0.9</td><td>0.6</td><td>0.8</td><td>1.8</td><td>6</td></tr><tr><td>8</td><td>Giannis Antetokounmpo</td><td>PF</td><td>27</td><td>MIL</td><td>12</td><td>12</td><td>37.3</td><td>11.7</td><td>23.8</td><td>0.491</td><td>0.8</td><td>3.4</td><td>0.22</td><td>10.9</td><td>20.3</td><td>0.537</td><td>0.507</td><td>7.6</td><td>11.2</td><td>0.679</td><td>2.2</td><td>12</td><td>14.2</td><td>6.8</td><td>0.7</td><td>1.3</td><td>4.5</td><td>3.6</td><td>31.7</td></tr><tr><td>9</td><td>Thanasis Antetokounmpo</td><td>SF</td><td>29</td><td>MIL</td><td>8</td><td>0</td><td>2.5</td><td>0.3</td><td>0.4</td><td>0.667</td><td>0</td><td>0</td><td>0</td><td>0.3</td><td>0.4</td><td>0.667</td><td>0.667</td><td>0.1</td><td>0.4</td><td>0.333</td><td>0.1</td><td>0.4</td><td>0.5</td><td>0.1</td><td>0.1</td><td>0</td><td>0</td><td>0.5</td><td>0.6</td></tr><tr><td>10</td><td>OG Anunoby</td><td>SF</td><td>24</td><td>TOR</td><td>6</td><td>6</td><td>36.2</td><td>6.5</td><td>13.7</td><td>0.476</td><td>2.3</td><td>6.8</td><td>0.341</td><td>4.2</td><td>6.8</td><td>0.61</td><td>0.561</td><td>2</td><td>2.7</td><td>0.75</td><td>1.2</td><td>2.8</td><td>4</td><td>2.5</td><td>1</td><td>0.2</td><td>1.7</td><td>3</td><td>17.3</td></tr></tbody></table></div>"
      ]
     },
     "metadata": {
      "application/vnd.databricks.v1+output": {
       "addedWidgets": {},
       "aggData": [],
       "aggError": "",
       "aggOverflow": false,
       "aggSchema": [],
       "aggSeriesLimitReached": false,
       "aggType": "",
       "arguments": {},
       "columnCustomDisplayInfos": {},
       "data": [
        [
         "1",
         "Precious Achiuwa",
         "C",
         "22",
         "TOR",
         "6",
         "1",
         "27.8",
         "4.2",
         "8.7",
         "0.481",
         "0.8",
         "2.7",
         "0.313",
         "3.3",
         "6",
         "0.556",
         "0.529",
         "1",
         "1.7",
         "0.6",
         "1.3",
         "3.5",
         "4.8",
         "1",
         "0.2",
         "0.8",
         "1.5",
         "2.3",
         "10.2"
        ],
        [
         "2",
         "Steven Adams",
         "C",
         "28",
         "MEM",
         "7",
         "5",
         "16.3",
         "1.3",
         "3",
         "0.429",
         "0",
         "0",
         "0",
         "1.3",
         "3",
         "0.429",
         "0.429",
         "0.9",
         "1.6",
         "0.545",
         "2.1",
         "4.3",
         "6.4",
         "2.1",
         "0.1",
         "0.1",
         "0.6",
         "1.7",
         "3.4"
        ],
        [
         "3",
         "Bam Adebayo",
         "C",
         "24",
         "MIA",
         "18",
         "18",
         "34.1",
         "5.8",
         "9.7",
         "0.594",
         "0",
         "0.1",
         "0",
         "5.8",
         "9.7",
         "0.598",
         "0.594",
         "3.2",
         "4.2",
         "0.763",
         "2.1",
         "5.9",
         "8",
         "2.7",
         "1",
         "0.7",
         "2.1",
         "3.1",
         "14.8"
        ],
        [
         "4",
         "Nickeil Alexander-Walker",
         "SG",
         "23",
         "UTA",
         "1",
         "0",
         "5",
         "2",
         "2",
         "1",
         "0",
         "0",
         "0",
         "2",
         "2",
         "1",
         "1",
         "1",
         "1",
         "1",
         "0",
         "1",
         "1",
         "1",
         "1",
         "0",
         "0",
         "0",
         "5"
        ],
        [
         "5",
         "Grayson Allen",
         "SG",
         "26",
         "MIL",
         "12",
         "5",
         "25.4",
         "3.1",
         "6.8",
         "0.451",
         "1.6",
         "4",
         "0.396",
         "1.5",
         "2.8",
         "0.529",
         "0.567",
         "0.6",
         "0.9",
         "0.636",
         "0.4",
         "2.5",
         "2.9",
         "1.3",
         "0.7",
         "0.3",
         "0.8",
         "1.8",
         "8.3"
        ],
        [
         "6",
         "Jose Alvarado",
         "PG",
         "23",
         "NOP",
         "6",
         "0",
         "19.5",
         "2.7",
         "5.5",
         "0.485",
         "1",
         "2.7",
         "0.375",
         "1.7",
         "2.8",
         "0.588",
         "0.576",
         "1.7",
         "2.2",
         "0.769",
         "0.3",
         "1",
         "1.3",
         "1.5",
         "1.2",
         "0.2",
         "1.2",
         "3",
         "8"
        ],
        [
         "7",
         "Kyle Anderson",
         "PF",
         "28",
         "MEM",
         "12",
         "1",
         "18.4",
         "2.4",
         "4.3",
         "0.569",
         "0.3",
         "1",
         "0.25",
         "2.2",
         "3.3",
         "0.667",
         "0.598",
         "0.9",
         "1.5",
         "0.611",
         "0.8",
         "3.5",
         "4.3",
         "1.8",
         "0.9",
         "0.6",
         "0.8",
         "1.8",
         "6"
        ],
        [
         "8",
         "Giannis Antetokounmpo",
         "PF",
         "27",
         "MIL",
         "12",
         "12",
         "37.3",
         "11.7",
         "23.8",
         "0.491",
         "0.8",
         "3.4",
         "0.22",
         "10.9",
         "20.3",
         "0.537",
         "0.507",
         "7.6",
         "11.2",
         "0.679",
         "2.2",
         "12",
         "14.2",
         "6.8",
         "0.7",
         "1.3",
         "4.5",
         "3.6",
         "31.7"
        ],
        [
         "9",
         "Thanasis Antetokounmpo",
         "SF",
         "29",
         "MIL",
         "8",
         "0",
         "2.5",
         "0.3",
         "0.4",
         "0.667",
         "0",
         "0",
         "0",
         "0.3",
         "0.4",
         "0.667",
         "0.667",
         "0.1",
         "0.4",
         "0.333",
         "0.1",
         "0.4",
         "0.5",
         "0.1",
         "0.1",
         "0",
         "0",
         "0.5",
         "0.6"
        ],
        [
         "10",
         "OG Anunoby",
         "SF",
         "24",
         "TOR",
         "6",
         "6",
         "36.2",
         "6.5",
         "13.7",
         "0.476",
         "2.3",
         "6.8",
         "0.341",
         "4.2",
         "6.8",
         "0.61",
         "0.561",
         "2",
         "2.7",
         "0.75",
         "1.2",
         "2.8",
         "4",
         "2.5",
         "1",
         "0.2",
         "1.7",
         "3",
         "17.3"
        ]
       ],
       "datasetInfos": [],
       "dbfsResultPath": null,
       "isJsonSchema": true,
       "metadata": {},
       "overflow": false,
       "plotOptions": {
        "customPlotOptions": {},
        "displayType": "table",
        "pivotAggregation": null,
        "pivotColumns": null,
        "xColumns": null,
        "yColumns": null
       },
       "removedWidgets": [],
       "schema": [
        {
         "metadata": "{}",
         "name": "Rk",
         "type": "\"string\""
        },
        {
         "metadata": "{}",
         "name": "Player",
         "type": "\"string\""
        },
        {
         "metadata": "{}",
         "name": "Pos",
         "type": "\"string\""
        },
        {
         "metadata": "{}",
         "name": "Age",
         "type": "\"string\""
        },
        {
         "metadata": "{}",
         "name": "Tm",
         "type": "\"string\""
        },
        {
         "metadata": "{}",
         "name": "G",
         "type": "\"string\""
        },
        {
         "metadata": "{}",
         "name": "GS",
         "type": "\"string\""
        },
        {
         "metadata": "{}",
         "name": "MP",
         "type": "\"string\""
        },
        {
         "metadata": "{}",
         "name": "FG",
         "type": "\"string\""
        },
        {
         "metadata": "{}",
         "name": "FGA",
         "type": "\"string\""
        },
        {
         "metadata": "{}",
         "name": "FG%",
         "type": "\"string\""
        },
        {
         "metadata": "{}",
         "name": "3P",
         "type": "\"string\""
        },
        {
         "metadata": "{}",
         "name": "3PA",
         "type": "\"string\""
        },
        {
         "metadata": "{}",
         "name": "3P%",
         "type": "\"string\""
        },
        {
         "metadata": "{}",
         "name": "2P",
         "type": "\"string\""
        },
        {
         "metadata": "{}",
         "name": "2PA",
         "type": "\"string\""
        },
        {
         "metadata": "{}",
         "name": "2P%",
         "type": "\"string\""
        },
        {
         "metadata": "{}",
         "name": "eFG%",
         "type": "\"string\""
        },
        {
         "metadata": "{}",
         "name": "FT",
         "type": "\"string\""
        },
        {
         "metadata": "{}",
         "name": "FTA",
         "type": "\"string\""
        },
        {
         "metadata": "{}",
         "name": "FT%",
         "type": "\"string\""
        },
        {
         "metadata": "{}",
         "name": "ORB",
         "type": "\"string\""
        },
        {
         "metadata": "{}",
         "name": "DRB",
         "type": "\"string\""
        },
        {
         "metadata": "{}",
         "name": "TRB",
         "type": "\"string\""
        },
        {
         "metadata": "{}",
         "name": "AST",
         "type": "\"string\""
        },
        {
         "metadata": "{}",
         "name": "STL",
         "type": "\"string\""
        },
        {
         "metadata": "{}",
         "name": "BLK",
         "type": "\"string\""
        },
        {
         "metadata": "{}",
         "name": "TOV",
         "type": "\"string\""
        },
        {
         "metadata": "{}",
         "name": "PF",
         "type": "\"string\""
        },
        {
         "metadata": "{}",
         "name": "PTS",
         "type": "\"string\""
        }
       ],
       "type": "table"
      }
     },
     "output_type": "display_data"
    }
   ],
   "source": [
    "# Importando os dados dos playoffs\n",
    "\n",
    "# Localização e tipo do arquivo\n",
    "new_file_location = \"/FileStore/tables/2021_2022_NBA_Player_Stats___Playoffs.csv\"\n",
    "new_file_type = \"csv\"\n",
    "\n",
    "# Parâmetros do arquivo .csv\n",
    "infer_schema = \"false\"\n",
    "first_row_is_header = \"true\"\n",
    "delimiter = \",\"\n",
    "\n",
    "# Criando dataframe dos playoffs\n",
    "new_df = spark.read.format(new_file_type) \\\n",
    "  .option(\"inferSchema\", infer_schema) \\\n",
    "  .option(\"header\", first_row_is_header) \\\n",
    "  .option(\"sep\", \";\") \\\n",
    "  .load(new_file_location)\n",
    "\n",
    "display(new_df.head(10))"
   ]
  },
  {
   "cell_type": "code",
   "execution_count": 0,
   "metadata": {
    "application/vnd.databricks.v1+cell": {
     "cellMetadata": {
      "byteLimit": 2048000,
      "rowLimit": 10000
     },
     "inputWidgets": {},
     "nuid": "b0fb603c-4f8e-4158-9301-247c52c30d69",
     "showTitle": false,
     "title": ""
    }
   },
   "outputs": [
    {
     "output_type": "display_data",
     "data": {
      "text/html": [
       "<style scoped>\n",
       "  .table-result-container {\n",
       "    max-height: 300px;\n",
       "    overflow: auto;\n",
       "  }\n",
       "  table, th, td {\n",
       "    border: 1px solid black;\n",
       "    border-collapse: collapse;\n",
       "  }\n",
       "  th, td {\n",
       "    padding: 5px;\n",
       "  }\n",
       "  th {\n",
       "    text-align: left;\n",
       "  }\n",
       "</style><div class='table-result-container'><table class='table-result'><thead style='background-color: white'><tr><th>Rk</th><th>Player</th><th>Pos</th><th>Age</th><th>Tm</th><th>G</th><th>GS</th><th>MP</th><th>FG</th><th>FGA</th><th>FG%</th><th>3P</th><th>3PA</th><th>3P%</th><th>2P</th><th>2PA</th><th>2P%</th><th>eFG%</th><th>FT</th><th>FTA</th><th>FT%</th><th>ORB</th><th>DRB</th><th>TRB</th><th>AST</th><th>STL</th><th>BLK</th><th>TOV</th><th>PF</th><th>PTS</th></tr></thead><tbody><tr><td>1</td><td>Precious Achiuwa</td><td>C</td><td>22</td><td>TOR</td><td>73</td><td>28</td><td>23.6</td><td>3.6</td><td>8.3</td><td>0.439</td><td>0.8</td><td>2.1</td><td>0.359</td><td>2.9</td><td>6.1</td><td>0.468</td><td>0.486</td><td>1.1</td><td>1.8</td><td>0.595</td><td>2</td><td>4.5</td><td>6.5</td><td>1.1</td><td>0.5</td><td>0.6</td><td>1.2</td><td>2.1</td><td>9.1</td></tr><tr><td>2</td><td>Steven Adams</td><td>C</td><td>28</td><td>MEM</td><td>76</td><td>75</td><td>26.3</td><td>2.8</td><td>5.1</td><td>0.547</td><td>0</td><td>0</td><td>0</td><td>2.8</td><td>5</td><td>0.548</td><td>0.547</td><td>1.4</td><td>2.6</td><td>0.543</td><td>4.6</td><td>5.4</td><td>10</td><td>3.4</td><td>0.9</td><td>0.8</td><td>1.5</td><td>2</td><td>6.9</td></tr><tr><td>3</td><td>Bam Adebayo</td><td>C</td><td>24</td><td>MIA</td><td>56</td><td>56</td><td>32.6</td><td>7.3</td><td>13</td><td>0.557</td><td>0</td><td>0.1</td><td>0</td><td>7.3</td><td>12.9</td><td>0.562</td><td>0.557</td><td>4.6</td><td>6.1</td><td>0.753</td><td>2.4</td><td>7.6</td><td>10.1</td><td>3.4</td><td>1.4</td><td>0.8</td><td>2.6</td><td>3.1</td><td>19.1</td></tr><tr><td>4</td><td>Santi Aldama</td><td>PF</td><td>21</td><td>MEM</td><td>32</td><td>0</td><td>11.3</td><td>1.7</td><td>4.1</td><td>0.402</td><td>0.2</td><td>1.5</td><td>0.125</td><td>1.5</td><td>2.6</td><td>0.56</td><td>0.424</td><td>0.6</td><td>1</td><td>0.625</td><td>1</td><td>1.7</td><td>2.7</td><td>0.7</td><td>0.2</td><td>0.3</td><td>0.5</td><td>1.1</td><td>4.1</td></tr><tr><td>5</td><td>LaMarcus Aldridge</td><td>C</td><td>36</td><td>BRK</td><td>47</td><td>12</td><td>22.3</td><td>5.4</td><td>9.7</td><td>0.55</td><td>0.3</td><td>1</td><td>0.304</td><td>5.1</td><td>8.8</td><td>0.578</td><td>0.566</td><td>1.9</td><td>2.2</td><td>0.873</td><td>1.6</td><td>3.9</td><td>5.5</td><td>0.9</td><td>0.3</td><td>1</td><td>0.9</td><td>1.7</td><td>12.9</td></tr><tr><td>6</td><td>Nickeil Alexander-Walker</td><td>SG</td><td>23</td><td>TOT</td><td>65</td><td>21</td><td>22.6</td><td>3.9</td><td>10.5</td><td>0.372</td><td>1.6</td><td>5.2</td><td>0.311</td><td>2.3</td><td>5.3</td><td>0.433</td><td>0.449</td><td>1.2</td><td>1.7</td><td>0.743</td><td>0.6</td><td>2.3</td><td>2.9</td><td>2.4</td><td>0.7</td><td>0.4</td><td>1.4</td><td>1.6</td><td>10.6</td></tr><tr><td>6</td><td>Nickeil Alexander-Walker</td><td>SG</td><td>23</td><td>NOP</td><td>50</td><td>19</td><td>26.3</td><td>4.7</td><td>12.6</td><td>0.375</td><td>1.9</td><td>6.1</td><td>0.311</td><td>2.8</td><td>6.5</td><td>0.434</td><td>0.45</td><td>1.4</td><td>1.9</td><td>0.722</td><td>0.7</td><td>2.6</td><td>3.3</td><td>2.8</td><td>0.8</td><td>0.4</td><td>1.7</td><td>1.8</td><td>12.8</td></tr><tr><td>6</td><td>Nickeil Alexander-Walker</td><td>SG</td><td>23</td><td>UTA</td><td>15</td><td>2</td><td>9.9</td><td>1.1</td><td>3.2</td><td>0.333</td><td>0.7</td><td>2.2</td><td>0.303</td><td>0.4</td><td>1</td><td>0.4</td><td>0.438</td><td>0.7</td><td>0.8</td><td>0.917</td><td>0.1</td><td>1.5</td><td>1.5</td><td>1.1</td><td>0.3</td><td>0.3</td><td>0.5</td><td>1</td><td>3.5</td></tr><tr><td>7</td><td>Grayson Allen</td><td>SG</td><td>26</td><td>MIL</td><td>66</td><td>61</td><td>27.3</td><td>3.9</td><td>8.6</td><td>0.448</td><td>2.4</td><td>5.9</td><td>0.409</td><td>1.5</td><td>2.7</td><td>0.533</td><td>0.588</td><td>1</td><td>1.1</td><td>0.865</td><td>0.5</td><td>2.9</td><td>3.4</td><td>1.5</td><td>0.7</td><td>0.3</td><td>0.7</td><td>1.5</td><td>11.1</td></tr><tr><td>8</td><td>Jarrett Allen</td><td>C</td><td>23</td><td>CLE</td><td>56</td><td>56</td><td>32.3</td><td>6.6</td><td>9.7</td><td>0.677</td><td>0</td><td>0.2</td><td>0.1</td><td>6.6</td><td>9.6</td><td>0.688</td><td>0.678</td><td>2.9</td><td>4.2</td><td>0.708</td><td>3.4</td><td>7.3</td><td>10.8</td><td>1.6</td><td>0.8</td><td>1.3</td><td>1.7</td><td>1.7</td><td>16.1</td></tr></tbody></table></div>"
      ]
     },
     "metadata": {
      "application/vnd.databricks.v1+output": {
       "addedWidgets": {},
       "aggData": [],
       "aggError": "",
       "aggOverflow": false,
       "aggSchema": [],
       "aggSeriesLimitReached": false,
       "aggType": "",
       "arguments": {},
       "columnCustomDisplayInfos": {},
       "data": [
        [
         "1",
         "Precious Achiuwa",
         "C",
         "22",
         "TOR",
         "73",
         "28",
         "23.6",
         "3.6",
         "8.3",
         "0.439",
         "0.8",
         "2.1",
         "0.359",
         "2.9",
         "6.1",
         "0.468",
         "0.486",
         "1.1",
         "1.8",
         "0.595",
         "2",
         "4.5",
         "6.5",
         "1.1",
         "0.5",
         "0.6",
         "1.2",
         "2.1",
         "9.1"
        ],
        [
         "2",
         "Steven Adams",
         "C",
         "28",
         "MEM",
         "76",
         "75",
         "26.3",
         "2.8",
         "5.1",
         "0.547",
         "0",
         "0",
         "0",
         "2.8",
         "5",
         "0.548",
         "0.547",
         "1.4",
         "2.6",
         "0.543",
         "4.6",
         "5.4",
         "10",
         "3.4",
         "0.9",
         "0.8",
         "1.5",
         "2",
         "6.9"
        ],
        [
         "3",
         "Bam Adebayo",
         "C",
         "24",
         "MIA",
         "56",
         "56",
         "32.6",
         "7.3",
         "13",
         "0.557",
         "0",
         "0.1",
         "0",
         "7.3",
         "12.9",
         "0.562",
         "0.557",
         "4.6",
         "6.1",
         "0.753",
         "2.4",
         "7.6",
         "10.1",
         "3.4",
         "1.4",
         "0.8",
         "2.6",
         "3.1",
         "19.1"
        ],
        [
         "4",
         "Santi Aldama",
         "PF",
         "21",
         "MEM",
         "32",
         "0",
         "11.3",
         "1.7",
         "4.1",
         "0.402",
         "0.2",
         "1.5",
         "0.125",
         "1.5",
         "2.6",
         "0.56",
         "0.424",
         "0.6",
         "1",
         "0.625",
         "1",
         "1.7",
         "2.7",
         "0.7",
         "0.2",
         "0.3",
         "0.5",
         "1.1",
         "4.1"
        ],
        [
         "5",
         "LaMarcus Aldridge",
         "C",
         "36",
         "BRK",
         "47",
         "12",
         "22.3",
         "5.4",
         "9.7",
         "0.55",
         "0.3",
         "1",
         "0.304",
         "5.1",
         "8.8",
         "0.578",
         "0.566",
         "1.9",
         "2.2",
         "0.873",
         "1.6",
         "3.9",
         "5.5",
         "0.9",
         "0.3",
         "1",
         "0.9",
         "1.7",
         "12.9"
        ],
        [
         "6",
         "Nickeil Alexander-Walker",
         "SG",
         "23",
         "TOT",
         "65",
         "21",
         "22.6",
         "3.9",
         "10.5",
         "0.372",
         "1.6",
         "5.2",
         "0.311",
         "2.3",
         "5.3",
         "0.433",
         "0.449",
         "1.2",
         "1.7",
         "0.743",
         "0.6",
         "2.3",
         "2.9",
         "2.4",
         "0.7",
         "0.4",
         "1.4",
         "1.6",
         "10.6"
        ],
        [
         "6",
         "Nickeil Alexander-Walker",
         "SG",
         "23",
         "NOP",
         "50",
         "19",
         "26.3",
         "4.7",
         "12.6",
         "0.375",
         "1.9",
         "6.1",
         "0.311",
         "2.8",
         "6.5",
         "0.434",
         "0.45",
         "1.4",
         "1.9",
         "0.722",
         "0.7",
         "2.6",
         "3.3",
         "2.8",
         "0.8",
         "0.4",
         "1.7",
         "1.8",
         "12.8"
        ],
        [
         "6",
         "Nickeil Alexander-Walker",
         "SG",
         "23",
         "UTA",
         "15",
         "2",
         "9.9",
         "1.1",
         "3.2",
         "0.333",
         "0.7",
         "2.2",
         "0.303",
         "0.4",
         "1",
         "0.4",
         "0.438",
         "0.7",
         "0.8",
         "0.917",
         "0.1",
         "1.5",
         "1.5",
         "1.1",
         "0.3",
         "0.3",
         "0.5",
         "1",
         "3.5"
        ],
        [
         "7",
         "Grayson Allen",
         "SG",
         "26",
         "MIL",
         "66",
         "61",
         "27.3",
         "3.9",
         "8.6",
         "0.448",
         "2.4",
         "5.9",
         "0.409",
         "1.5",
         "2.7",
         "0.533",
         "0.588",
         "1",
         "1.1",
         "0.865",
         "0.5",
         "2.9",
         "3.4",
         "1.5",
         "0.7",
         "0.3",
         "0.7",
         "1.5",
         "11.1"
        ],
        [
         "8",
         "Jarrett Allen",
         "C",
         "23",
         "CLE",
         "56",
         "56",
         "32.3",
         "6.6",
         "9.7",
         "0.677",
         "0",
         "0.2",
         "0.1",
         "6.6",
         "9.6",
         "0.688",
         "0.678",
         "2.9",
         "4.2",
         "0.708",
         "3.4",
         "7.3",
         "10.8",
         "1.6",
         "0.8",
         "1.3",
         "1.7",
         "1.7",
         "16.1"
        ]
       ],
       "datasetInfos": [],
       "dbfsResultPath": null,
       "isJsonSchema": true,
       "metadata": {},
       "overflow": false,
       "plotOptions": {
        "customPlotOptions": {},
        "displayType": "table",
        "pivotAggregation": null,
        "pivotColumns": null,
        "xColumns": null,
        "yColumns": null
       },
       "removedWidgets": [],
       "schema": [
        {
         "metadata": "{}",
         "name": "Rk",
         "type": "\"string\""
        },
        {
         "metadata": "{}",
         "name": "Player",
         "type": "\"string\""
        },
        {
         "metadata": "{}",
         "name": "Pos",
         "type": "\"string\""
        },
        {
         "metadata": "{}",
         "name": "Age",
         "type": "\"string\""
        },
        {
         "metadata": "{}",
         "name": "Tm",
         "type": "\"string\""
        },
        {
         "metadata": "{}",
         "name": "G",
         "type": "\"string\""
        },
        {
         "metadata": "{}",
         "name": "GS",
         "type": "\"string\""
        },
        {
         "metadata": "{}",
         "name": "MP",
         "type": "\"string\""
        },
        {
         "metadata": "{}",
         "name": "FG",
         "type": "\"string\""
        },
        {
         "metadata": "{}",
         "name": "FGA",
         "type": "\"string\""
        },
        {
         "metadata": "{}",
         "name": "FG%",
         "type": "\"string\""
        },
        {
         "metadata": "{}",
         "name": "3P",
         "type": "\"string\""
        },
        {
         "metadata": "{}",
         "name": "3PA",
         "type": "\"string\""
        },
        {
         "metadata": "{}",
         "name": "3P%",
         "type": "\"string\""
        },
        {
         "metadata": "{}",
         "name": "2P",
         "type": "\"string\""
        },
        {
         "metadata": "{}",
         "name": "2PA",
         "type": "\"string\""
        },
        {
         "metadata": "{}",
         "name": "2P%",
         "type": "\"string\""
        },
        {
         "metadata": "{}",
         "name": "eFG%",
         "type": "\"string\""
        },
        {
         "metadata": "{}",
         "name": "FT",
         "type": "\"string\""
        },
        {
         "metadata": "{}",
         "name": "FTA",
         "type": "\"string\""
        },
        {
         "metadata": "{}",
         "name": "FT%",
         "type": "\"string\""
        },
        {
         "metadata": "{}",
         "name": "ORB",
         "type": "\"string\""
        },
        {
         "metadata": "{}",
         "name": "DRB",
         "type": "\"string\""
        },
        {
         "metadata": "{}",
         "name": "TRB",
         "type": "\"string\""
        },
        {
         "metadata": "{}",
         "name": "AST",
         "type": "\"string\""
        },
        {
         "metadata": "{}",
         "name": "STL",
         "type": "\"string\""
        },
        {
         "metadata": "{}",
         "name": "BLK",
         "type": "\"string\""
        },
        {
         "metadata": "{}",
         "name": "TOV",
         "type": "\"string\""
        },
        {
         "metadata": "{}",
         "name": "PF",
         "type": "\"string\""
        },
        {
         "metadata": "{}",
         "name": "PTS",
         "type": "\"string\""
        }
       ],
       "type": "table"
      }
     },
     "output_type": "display_data"
    }
   ],
   "source": [
    "# Salvando os dados temporada regular na nuvem\n",
    "\n",
    "# Salvar o DataFrame como uma tabela na plataforma Databricks\n",
    "permanent_table_name = \"2021_2022_NBA_Player_Stats___Regular_csv\"\n",
    "\n",
    "dbutils.fs.rm('dbfs:/user/hive/warehouse/2021_2022_nba_player_stats___regular_csv', recurse=True) # Limpando o diretório\n",
    "\n",
    "df.write.format(\"delta\").saveAsTable(permanent_table_name)\n",
    "\n",
    "# Consultar a tabela criada no modelo flat\n",
    "df_check = spark.sql(f\"SELECT * FROM {permanent_table_name}\")\n",
    "display(df_check.limit(10))"
   ]
  },
  {
   "cell_type": "code",
   "execution_count": 0,
   "metadata": {
    "application/vnd.databricks.v1+cell": {
     "cellMetadata": {
      "byteLimit": 2048000,
      "rowLimit": 10000
     },
     "inputWidgets": {},
     "nuid": "76fdd319-fd1b-4557-8d2e-0c9e80fd605c",
     "showTitle": false,
     "title": ""
    }
   },
   "outputs": [
    {
     "output_type": "display_data",
     "data": {
      "text/html": [
       "<style scoped>\n",
       "  .table-result-container {\n",
       "    max-height: 300px;\n",
       "    overflow: auto;\n",
       "  }\n",
       "  table, th, td {\n",
       "    border: 1px solid black;\n",
       "    border-collapse: collapse;\n",
       "  }\n",
       "  th, td {\n",
       "    padding: 5px;\n",
       "  }\n",
       "  th {\n",
       "    text-align: left;\n",
       "  }\n",
       "</style><div class='table-result-container'><table class='table-result'><thead style='background-color: white'><tr><th>Rk</th><th>Player</th><th>Pos</th><th>Age</th><th>Tm</th><th>G</th><th>GS</th><th>MP</th><th>FG</th><th>FGA</th><th>FG%</th><th>3P</th><th>3PA</th><th>3P%</th><th>2P</th><th>2PA</th><th>2P%</th><th>eFG%</th><th>FT</th><th>FTA</th><th>FT%</th><th>ORB</th><th>DRB</th><th>TRB</th><th>AST</th><th>STL</th><th>BLK</th><th>TOV</th><th>PF</th><th>PTS</th></tr></thead><tbody><tr><td>1</td><td>Precious Achiuwa</td><td>C</td><td>22</td><td>TOR</td><td>6</td><td>1</td><td>27.8</td><td>4.2</td><td>8.7</td><td>0.481</td><td>0.8</td><td>2.7</td><td>0.313</td><td>3.3</td><td>6</td><td>0.556</td><td>0.529</td><td>1</td><td>1.7</td><td>0.6</td><td>1.3</td><td>3.5</td><td>4.8</td><td>1</td><td>0.2</td><td>0.8</td><td>1.5</td><td>2.3</td><td>10.2</td></tr><tr><td>2</td><td>Steven Adams</td><td>C</td><td>28</td><td>MEM</td><td>7</td><td>5</td><td>16.3</td><td>1.3</td><td>3</td><td>0.429</td><td>0</td><td>0</td><td>0</td><td>1.3</td><td>3</td><td>0.429</td><td>0.429</td><td>0.9</td><td>1.6</td><td>0.545</td><td>2.1</td><td>4.3</td><td>6.4</td><td>2.1</td><td>0.1</td><td>0.1</td><td>0.6</td><td>1.7</td><td>3.4</td></tr><tr><td>3</td><td>Bam Adebayo</td><td>C</td><td>24</td><td>MIA</td><td>18</td><td>18</td><td>34.1</td><td>5.8</td><td>9.7</td><td>0.594</td><td>0</td><td>0.1</td><td>0</td><td>5.8</td><td>9.7</td><td>0.598</td><td>0.594</td><td>3.2</td><td>4.2</td><td>0.763</td><td>2.1</td><td>5.9</td><td>8</td><td>2.7</td><td>1</td><td>0.7</td><td>2.1</td><td>3.1</td><td>14.8</td></tr><tr><td>4</td><td>Nickeil Alexander-Walker</td><td>SG</td><td>23</td><td>UTA</td><td>1</td><td>0</td><td>5</td><td>2</td><td>2</td><td>1</td><td>0</td><td>0</td><td>0</td><td>2</td><td>2</td><td>1</td><td>1</td><td>1</td><td>1</td><td>1</td><td>0</td><td>1</td><td>1</td><td>1</td><td>1</td><td>0</td><td>0</td><td>0</td><td>5</td></tr><tr><td>5</td><td>Grayson Allen</td><td>SG</td><td>26</td><td>MIL</td><td>12</td><td>5</td><td>25.4</td><td>3.1</td><td>6.8</td><td>0.451</td><td>1.6</td><td>4</td><td>0.396</td><td>1.5</td><td>2.8</td><td>0.529</td><td>0.567</td><td>0.6</td><td>0.9</td><td>0.636</td><td>0.4</td><td>2.5</td><td>2.9</td><td>1.3</td><td>0.7</td><td>0.3</td><td>0.8</td><td>1.8</td><td>8.3</td></tr><tr><td>6</td><td>Jose Alvarado</td><td>PG</td><td>23</td><td>NOP</td><td>6</td><td>0</td><td>19.5</td><td>2.7</td><td>5.5</td><td>0.485</td><td>1</td><td>2.7</td><td>0.375</td><td>1.7</td><td>2.8</td><td>0.588</td><td>0.576</td><td>1.7</td><td>2.2</td><td>0.769</td><td>0.3</td><td>1</td><td>1.3</td><td>1.5</td><td>1.2</td><td>0.2</td><td>1.2</td><td>3</td><td>8</td></tr><tr><td>7</td><td>Kyle Anderson</td><td>PF</td><td>28</td><td>MEM</td><td>12</td><td>1</td><td>18.4</td><td>2.4</td><td>4.3</td><td>0.569</td><td>0.3</td><td>1</td><td>0.25</td><td>2.2</td><td>3.3</td><td>0.667</td><td>0.598</td><td>0.9</td><td>1.5</td><td>0.611</td><td>0.8</td><td>3.5</td><td>4.3</td><td>1.8</td><td>0.9</td><td>0.6</td><td>0.8</td><td>1.8</td><td>6</td></tr><tr><td>8</td><td>Giannis Antetokounmpo</td><td>PF</td><td>27</td><td>MIL</td><td>12</td><td>12</td><td>37.3</td><td>11.7</td><td>23.8</td><td>0.491</td><td>0.8</td><td>3.4</td><td>0.22</td><td>10.9</td><td>20.3</td><td>0.537</td><td>0.507</td><td>7.6</td><td>11.2</td><td>0.679</td><td>2.2</td><td>12</td><td>14.2</td><td>6.8</td><td>0.7</td><td>1.3</td><td>4.5</td><td>3.6</td><td>31.7</td></tr><tr><td>9</td><td>Thanasis Antetokounmpo</td><td>SF</td><td>29</td><td>MIL</td><td>8</td><td>0</td><td>2.5</td><td>0.3</td><td>0.4</td><td>0.667</td><td>0</td><td>0</td><td>0</td><td>0.3</td><td>0.4</td><td>0.667</td><td>0.667</td><td>0.1</td><td>0.4</td><td>0.333</td><td>0.1</td><td>0.4</td><td>0.5</td><td>0.1</td><td>0.1</td><td>0</td><td>0</td><td>0.5</td><td>0.6</td></tr><tr><td>10</td><td>OG Anunoby</td><td>SF</td><td>24</td><td>TOR</td><td>6</td><td>6</td><td>36.2</td><td>6.5</td><td>13.7</td><td>0.476</td><td>2.3</td><td>6.8</td><td>0.341</td><td>4.2</td><td>6.8</td><td>0.61</td><td>0.561</td><td>2</td><td>2.7</td><td>0.75</td><td>1.2</td><td>2.8</td><td>4</td><td>2.5</td><td>1</td><td>0.2</td><td>1.7</td><td>3</td><td>17.3</td></tr></tbody></table></div>"
      ]
     },
     "metadata": {
      "application/vnd.databricks.v1+output": {
       "addedWidgets": {},
       "aggData": [],
       "aggError": "",
       "aggOverflow": false,
       "aggSchema": [],
       "aggSeriesLimitReached": false,
       "aggType": "",
       "arguments": {},
       "columnCustomDisplayInfos": {},
       "data": [
        [
         "1",
         "Precious Achiuwa",
         "C",
         "22",
         "TOR",
         "6",
         "1",
         "27.8",
         "4.2",
         "8.7",
         "0.481",
         "0.8",
         "2.7",
         "0.313",
         "3.3",
         "6",
         "0.556",
         "0.529",
         "1",
         "1.7",
         "0.6",
         "1.3",
         "3.5",
         "4.8",
         "1",
         "0.2",
         "0.8",
         "1.5",
         "2.3",
         "10.2"
        ],
        [
         "2",
         "Steven Adams",
         "C",
         "28",
         "MEM",
         "7",
         "5",
         "16.3",
         "1.3",
         "3",
         "0.429",
         "0",
         "0",
         "0",
         "1.3",
         "3",
         "0.429",
         "0.429",
         "0.9",
         "1.6",
         "0.545",
         "2.1",
         "4.3",
         "6.4",
         "2.1",
         "0.1",
         "0.1",
         "0.6",
         "1.7",
         "3.4"
        ],
        [
         "3",
         "Bam Adebayo",
         "C",
         "24",
         "MIA",
         "18",
         "18",
         "34.1",
         "5.8",
         "9.7",
         "0.594",
         "0",
         "0.1",
         "0",
         "5.8",
         "9.7",
         "0.598",
         "0.594",
         "3.2",
         "4.2",
         "0.763",
         "2.1",
         "5.9",
         "8",
         "2.7",
         "1",
         "0.7",
         "2.1",
         "3.1",
         "14.8"
        ],
        [
         "4",
         "Nickeil Alexander-Walker",
         "SG",
         "23",
         "UTA",
         "1",
         "0",
         "5",
         "2",
         "2",
         "1",
         "0",
         "0",
         "0",
         "2",
         "2",
         "1",
         "1",
         "1",
         "1",
         "1",
         "0",
         "1",
         "1",
         "1",
         "1",
         "0",
         "0",
         "0",
         "5"
        ],
        [
         "5",
         "Grayson Allen",
         "SG",
         "26",
         "MIL",
         "12",
         "5",
         "25.4",
         "3.1",
         "6.8",
         "0.451",
         "1.6",
         "4",
         "0.396",
         "1.5",
         "2.8",
         "0.529",
         "0.567",
         "0.6",
         "0.9",
         "0.636",
         "0.4",
         "2.5",
         "2.9",
         "1.3",
         "0.7",
         "0.3",
         "0.8",
         "1.8",
         "8.3"
        ],
        [
         "6",
         "Jose Alvarado",
         "PG",
         "23",
         "NOP",
         "6",
         "0",
         "19.5",
         "2.7",
         "5.5",
         "0.485",
         "1",
         "2.7",
         "0.375",
         "1.7",
         "2.8",
         "0.588",
         "0.576",
         "1.7",
         "2.2",
         "0.769",
         "0.3",
         "1",
         "1.3",
         "1.5",
         "1.2",
         "0.2",
         "1.2",
         "3",
         "8"
        ],
        [
         "7",
         "Kyle Anderson",
         "PF",
         "28",
         "MEM",
         "12",
         "1",
         "18.4",
         "2.4",
         "4.3",
         "0.569",
         "0.3",
         "1",
         "0.25",
         "2.2",
         "3.3",
         "0.667",
         "0.598",
         "0.9",
         "1.5",
         "0.611",
         "0.8",
         "3.5",
         "4.3",
         "1.8",
         "0.9",
         "0.6",
         "0.8",
         "1.8",
         "6"
        ],
        [
         "8",
         "Giannis Antetokounmpo",
         "PF",
         "27",
         "MIL",
         "12",
         "12",
         "37.3",
         "11.7",
         "23.8",
         "0.491",
         "0.8",
         "3.4",
         "0.22",
         "10.9",
         "20.3",
         "0.537",
         "0.507",
         "7.6",
         "11.2",
         "0.679",
         "2.2",
         "12",
         "14.2",
         "6.8",
         "0.7",
         "1.3",
         "4.5",
         "3.6",
         "31.7"
        ],
        [
         "9",
         "Thanasis Antetokounmpo",
         "SF",
         "29",
         "MIL",
         "8",
         "0",
         "2.5",
         "0.3",
         "0.4",
         "0.667",
         "0",
         "0",
         "0",
         "0.3",
         "0.4",
         "0.667",
         "0.667",
         "0.1",
         "0.4",
         "0.333",
         "0.1",
         "0.4",
         "0.5",
         "0.1",
         "0.1",
         "0",
         "0",
         "0.5",
         "0.6"
        ],
        [
         "10",
         "OG Anunoby",
         "SF",
         "24",
         "TOR",
         "6",
         "6",
         "36.2",
         "6.5",
         "13.7",
         "0.476",
         "2.3",
         "6.8",
         "0.341",
         "4.2",
         "6.8",
         "0.61",
         "0.561",
         "2",
         "2.7",
         "0.75",
         "1.2",
         "2.8",
         "4",
         "2.5",
         "1",
         "0.2",
         "1.7",
         "3",
         "17.3"
        ]
       ],
       "datasetInfos": [],
       "dbfsResultPath": null,
       "isJsonSchema": true,
       "metadata": {},
       "overflow": false,
       "plotOptions": {
        "customPlotOptions": {},
        "displayType": "table",
        "pivotAggregation": null,
        "pivotColumns": null,
        "xColumns": null,
        "yColumns": null
       },
       "removedWidgets": [],
       "schema": [
        {
         "metadata": "{}",
         "name": "Rk",
         "type": "\"string\""
        },
        {
         "metadata": "{}",
         "name": "Player",
         "type": "\"string\""
        },
        {
         "metadata": "{}",
         "name": "Pos",
         "type": "\"string\""
        },
        {
         "metadata": "{}",
         "name": "Age",
         "type": "\"string\""
        },
        {
         "metadata": "{}",
         "name": "Tm",
         "type": "\"string\""
        },
        {
         "metadata": "{}",
         "name": "G",
         "type": "\"string\""
        },
        {
         "metadata": "{}",
         "name": "GS",
         "type": "\"string\""
        },
        {
         "metadata": "{}",
         "name": "MP",
         "type": "\"string\""
        },
        {
         "metadata": "{}",
         "name": "FG",
         "type": "\"string\""
        },
        {
         "metadata": "{}",
         "name": "FGA",
         "type": "\"string\""
        },
        {
         "metadata": "{}",
         "name": "FG%",
         "type": "\"string\""
        },
        {
         "metadata": "{}",
         "name": "3P",
         "type": "\"string\""
        },
        {
         "metadata": "{}",
         "name": "3PA",
         "type": "\"string\""
        },
        {
         "metadata": "{}",
         "name": "3P%",
         "type": "\"string\""
        },
        {
         "metadata": "{}",
         "name": "2P",
         "type": "\"string\""
        },
        {
         "metadata": "{}",
         "name": "2PA",
         "type": "\"string\""
        },
        {
         "metadata": "{}",
         "name": "2P%",
         "type": "\"string\""
        },
        {
         "metadata": "{}",
         "name": "eFG%",
         "type": "\"string\""
        },
        {
         "metadata": "{}",
         "name": "FT",
         "type": "\"string\""
        },
        {
         "metadata": "{}",
         "name": "FTA",
         "type": "\"string\""
        },
        {
         "metadata": "{}",
         "name": "FT%",
         "type": "\"string\""
        },
        {
         "metadata": "{}",
         "name": "ORB",
         "type": "\"string\""
        },
        {
         "metadata": "{}",
         "name": "DRB",
         "type": "\"string\""
        },
        {
         "metadata": "{}",
         "name": "TRB",
         "type": "\"string\""
        },
        {
         "metadata": "{}",
         "name": "AST",
         "type": "\"string\""
        },
        {
         "metadata": "{}",
         "name": "STL",
         "type": "\"string\""
        },
        {
         "metadata": "{}",
         "name": "BLK",
         "type": "\"string\""
        },
        {
         "metadata": "{}",
         "name": "TOV",
         "type": "\"string\""
        },
        {
         "metadata": "{}",
         "name": "PF",
         "type": "\"string\""
        },
        {
         "metadata": "{}",
         "name": "PTS",
         "type": "\"string\""
        }
       ],
       "type": "table"
      }
     },
     "output_type": "display_data"
    }
   ],
   "source": [
    "# Salvando os dados temporada de playoffs na nuvem\n",
    "\n",
    "# Nome da nova tabela para dados dos playoffs\n",
    "permanent_table_name_playoffs = \"2021_2022_NBA_Player_Stats_Playoffs_csv\"\n",
    "\n",
    "# Limpar o diretório existente, se necessário\n",
    "dbutils.fs.rm(f'dbfs:/user/hive/warehouse/{permanent_table_name_playoffs}', recurse=True)\n",
    "\n",
    "# Salvar os dados dos playoffs como uma nova tabela Delta\n",
    "new_df.write.format(\"delta\").mode(\"overwrite\").saveAsTable(permanent_table_name_playoffs)\n",
    "\n",
    "# Verificar a nova tabela criada (também no modelo flat)\n",
    "df_check_playoffs = spark.sql(f\"SELECT * FROM {permanent_table_name_playoffs}\")\n",
    "display(df_check_playoffs.limit(10))\n"
   ]
  },
  {
   "cell_type": "markdown",
   "metadata": {
    "application/vnd.databricks.v1+cell": {
     "cellMetadata": {
      "byteLimit": 2048000,
      "rowLimit": 10000
     },
     "inputWidgets": {},
     "nuid": "7a8f1fde-e382-47ac-9379-ae3585c4cd15",
     "showTitle": false,
     "title": ""
    }
   },
   "source": [
    "\n",
    "Catálogo de Dados"
   ]
  },
  {
   "cell_type": "markdown",
   "metadata": {
    "application/vnd.databricks.v1+cell": {
     "cellMetadata": {
      "byteLimit": 2048000,
      "rowLimit": 10000
     },
     "inputWidgets": {},
     "nuid": "e5aee41a-a8d0-48b3-845e-bd5c306d4d45",
     "showTitle": false,
     "title": ""
    }
   },
   "source": [
    "\n",
    "Catálogo de Dados: NBA Player Stats 2021-2022\n",
    "\n",
    "Descrição Geral dos Datasets\n",
    "Nome dos Datasets:\n",
    "  - Temporada Regular: '2021_2022_NBA_Player_Stats_Regular'\n",
    "  - Playoffs: '2021_2022_NBA_Player_Stats_Playoffs'\n",
    "- Fonte dos Dados: Dados coletados em https://www.kaggle.com/datasets/vivovinco/nba-player-stats/data e originalmente disponibilizados por Basketball reference (https://www.kaggle.com/datasets/vivovinco/nba-player-stats/data).\n",
    "- Descrição dos Dados: Estatísticas detalhadas de jogadores da NBA durante a temporada regular e playoffs de 2021-2022.\n",
    "- Período dos Dados: Temporada 2021-2022.\n",
    "\n",
    "Detalhes das Colunas (aplicado a ambos os datasets)\n",
    "- **Rk (Rank)**: Numérico. Representa o ranking do jogador. Valores de 1 a 500.\n",
    "- **Player (Player's name)**: Texto. Nome completo do jogador.\n",
    "- **Pos (Position)**: Categórico. Posição do jogador em campo (G - Guard, F - Forward, C - Center).\n",
    "- **Age (Player's age)**: Numérico. Idade do jogador. Valores de 18 a 40.\n",
    "- **Tm (Team)**: Categórico. Time de basquete ao qual o jogador pertence. Inclui todos os times da NBA.\n",
    "- **G (Games played)**: Numérico. Número de jogos disputados na temporada. De 0 a 82.\n",
    "- **GS (Games started)**: Numérico. Número de jogos que o jogador começou como titular. De 0 a 82.\n",
    "- **MP (Minutes played per game)**: Numérico. Média de minutos jogados por partida. De 0 a 48.\n",
    "- **FG (Field goals per game)**: Numérico. Média de arremessos de campo feitos por jogo. De 0 a 20.\n",
    "- **FGA (Field goal attempts per game)**: Numérico. Média de tentativas de arremessos de campo por jogo. De 0 a 40.\n",
    "- **FG% (Field goal percentage)**: Numérico. Percentual de acertos de arremessos de campo. De 0% a 100%.\n",
    "- **3P (3-point field goals per game)**: Numérico. Média de arremessos de três pontos feitos por jogo. De 0 a 15.\n",
    "- **3PA (3-point field goal attempts per game)**: Numérico. Média de tentativas de arremessos de três pontos por jogo. De 0 a 25.\n",
    "- **3P% (3-point field goal percentage)**: Numérico. Percentual de acertos de três pontos. De 0% a 100%.\n",
    "- **2P (2-point field goals per game)**: Numérico. Média de arremessos de dois pontos feitos por jogo. De 0 a 25.\n",
    "- **2PA (2-point field goal attempts per game)**: Numérico. Média de tentativas de dois pontos por jogo. De 0 a 30.\n",
    "- **2P% (2-point field goal percentage)**: Numérico. Percentual de acertos de dois pontos. De 0% a 100%.\n",
    "- **eFG% (Effective field goal percentage)**: Numérico. Percentual de eficácia de arremesso ajustado para o valor de arremessos de três pontos. De 0% a 100%.\n",
    "- **FT (Free throws per game)**: Numérico. Média de lances livres convertidos por jogo. De 0 a 20.\n",
    "- **FTA (Free throw attempts per game)**: Numérico. Média de tentativas de lances livres por jogo. De 0 a 25.\n",
    "- **FT% (Free throw percentage)**: Numérico. Percentual de acertos de lances livres. De 0% a 100%.\n",
    "- **ORB (Offensive rebounds per game)**: Numérico. Média de rebotes ofensivos por jogo. De 0 a 15.\n",
    "- **DRB (Defensive rebounds per game)**: Numérico. Média de rebotes defensivos por jogo. De 0 a 20.\n",
    "- **TRB (Total rebounds per game)**: Numérico. Média total de rebotes por jogo. De 0 a 30.\n",
    "- **AST (Assists per game)**: Numérico. Média de assistências por jogo. De 0 a 20.\n",
    "- **STL (Steals per game)**: Numérico. Média de roubos de bola por jogo. De 0 a 10.\n",
    "- **BLK (Blocks per game)**: Numérico. Média de bloqueios por jogo. De 0 a 10.\n",
    "- **TOV (Turnovers per game)**: Numérico. Média de perdas de bola por jogo. De 0 a 10.\n",
    "- **PF (Personal fouls per game)**: Numérico. Média de faltas pessoais por jogo. De 0 a 10.\n",
    "- **PTS (Points per game)**: Numérico. Média de pontos por jogo. De 0 a 60."
   ]
  },
  {
   "cell_type": "markdown",
   "metadata": {
    "application/vnd.databricks.v1+cell": {
     "cellMetadata": {
      "byteLimit": 2048000,
      "rowLimit": 10000
     },
     "inputWidgets": {},
     "nuid": "6d751dd1-01a4-4c20-b00f-fbc18b17cbd6",
     "showTitle": false,
     "title": ""
    }
   },
   "source": [
    "\n",
    "Consultas SQL para responder as perguntas propostas"
   ]
  },
  {
   "cell_type": "markdown",
   "metadata": {
    "application/vnd.databricks.v1+cell": {
     "cellMetadata": {
      "byteLimit": 2048000,
      "rowLimit": 10000
     },
     "inputWidgets": {},
     "nuid": "13642660-beb3-4ea5-b7c7-6e5c65902a6b",
     "showTitle": false,
     "title": ""
    }
   },
   "source": [
    "\n",
    "1) Correlação entre estatísticas ofensivas e defensivas"
   ]
  },
  {
   "cell_type": "code",
   "execution_count": 0,
   "metadata": {
    "application/vnd.databricks.v1+cell": {
     "cellMetadata": {
      "byteLimit": 2048000,
      "implicitDf": true,
      "rowLimit": 10000
     },
     "inputWidgets": {},
     "nuid": "c35cdf63-05af-4d86-95da-c5b963a93664",
     "showTitle": false,
     "title": ""
    }
   },
   "outputs": [
    {
     "output_type": "display_data",
     "data": {
      "text/html": [
       "<style scoped>\n",
       "  .table-result-container {\n",
       "    max-height: 300px;\n",
       "    overflow: auto;\n",
       "  }\n",
       "  table, th, td {\n",
       "    border: 1px solid black;\n",
       "    border-collapse: collapse;\n",
       "  }\n",
       "  th, td {\n",
       "    padding: 5px;\n",
       "  }\n",
       "  th {\n",
       "    text-align: left;\n",
       "  }\n",
       "</style><div class='table-result-container'><table class='table-result'><thead style='background-color: white'><tr><th>corr_points_steals</th><th>corr_points_blocks</th><th>corr_assists_steals</th><th>corr_assists_blocks</th><th>corr_fga_steals</th><th>corr_fga_blocks</th></tr></thead><tbody><tr><td>0.6204161156836069</td><td>0.39773268505465803</td><td>0.6857376479520872</td><td>0.16967959053589055</td><td>0.639182126412356</td><td>0.33120803010025945</td></tr></tbody></table></div>"
      ]
     },
     "metadata": {
      "application/vnd.databricks.v1+output": {
       "addedWidgets": {},
       "aggData": [],
       "aggError": "",
       "aggOverflow": false,
       "aggSchema": [],
       "aggSeriesLimitReached": false,
       "aggType": "",
       "arguments": {},
       "columnCustomDisplayInfos": {},
       "data": [
        [
         0.6204161156836069,
         0.39773268505465803,
         0.6857376479520872,
         0.16967959053589055,
         0.639182126412356,
         0.33120803010025945
        ]
       ],
       "datasetInfos": [],
       "dbfsResultPath": null,
       "isJsonSchema": true,
       "metadata": {},
       "overflow": false,
       "plotOptions": {
        "customPlotOptions": {},
        "displayType": "table",
        "pivotAggregation": null,
        "pivotColumns": null,
        "xColumns": null,
        "yColumns": null
       },
       "removedWidgets": [],
       "schema": [
        {
         "metadata": "{}",
         "name": "corr_points_steals",
         "type": "\"double\""
        },
        {
         "metadata": "{}",
         "name": "corr_points_blocks",
         "type": "\"double\""
        },
        {
         "metadata": "{}",
         "name": "corr_assists_steals",
         "type": "\"double\""
        },
        {
         "metadata": "{}",
         "name": "corr_assists_blocks",
         "type": "\"double\""
        },
        {
         "metadata": "{}",
         "name": "corr_fga_steals",
         "type": "\"double\""
        },
        {
         "metadata": "{}",
         "name": "corr_fga_blocks",
         "type": "\"double\""
        }
       ],
       "type": "table"
      }
     },
     "output_type": "display_data"
    }
   ],
   "source": [
    "%sql\n",
    "\n",
    "WITH 2021_2022_NBA_Player_Stats___Regular_csv AS (\n",
    "  SELECT \n",
    "    Player,\n",
    "    AVG(PTS) AS avg_points,\n",
    "    AVG(AST) AS avg_assists,\n",
    "    AVG(FGA) AS avg_field_goal_attempts,\n",
    "    AVG(STL) AS avg_steals,\n",
    "    AVG(BLK) AS avg_blocks\n",
    "  FROM \n",
    "    2021_2022_NBA_Player_Stats___Regular_csv\n",
    "  GROUP BY \n",
    "    Player\n",
    ")\n",
    "\n",
    "SELECT \n",
    "  CORR(avg_points, avg_steals) AS corr_points_steals,\n",
    "  CORR(avg_points, avg_blocks) AS corr_points_blocks,\n",
    "  CORR(avg_assists, avg_steals) AS corr_assists_steals,\n",
    "  CORR(avg_assists, avg_blocks) AS corr_assists_blocks,\n",
    "  CORR(avg_field_goal_attempts, avg_steals) AS corr_fga_steals,\n",
    "  CORR(avg_field_goal_attempts, avg_blocks) AS corr_fga_blocks\n",
    "FROM \n",
    "  2021_2022_NBA_Player_Stats___Regular_csv\n"
   ]
  },
  {
   "cell_type": "markdown",
   "metadata": {
    "application/vnd.databricks.v1+cell": {
     "cellMetadata": {
      "byteLimit": 2048000,
      "rowLimit": 10000
     },
     "inputWidgets": {},
     "nuid": "664d57a3-4b96-4947-9dc9-fc6ccb2606c1",
     "showTitle": false,
     "title": ""
    }
   },
   "source": [
    "\n",
    "corr_points_steals (0.6204161156836069):\n",
    "\n",
    "Existe uma correlação positiva moderadamente forte entre os pontos marcados e os roubos de bola. Isso sugere que jogadores que pontuam mais também tendem a realizar mais roubos de bola. Isso pode indicar alta atividade em quadra, tanto ofensiva quanto defensivamente.\n",
    "\n",
    "corr_points_blocks (0.39773268505465803):\n",
    "\n",
    "Há uma correlação positiva moderada entre os pontos marcados e os bloqueios. Isso indica que jogadores que pontuam mais também podem contribuir com bloqueios, sugerindo que alguns atletas efetivos no ataque também participam ativamente na defesa, especialmente aqueles que jogam perto do garrafão.\n",
    "\n",
    "corr_assists_steals (0.6857376479520872):\n",
    "\n",
    "Esta é a correlação mais forte entre as medidas analisadas, mostrando uma forte relação positiva entre assistências e roubos de bola. Isso reforça a ideia de que jogadores com boa visão de jogo e habilidades de passe (que geralmente resultam em assistências) também são ativos e eficazes na defesa, demonstrando reflexos rápidos e boa leitura das jogadas adversárias.\n",
    "\n",
    "corr_assists_blocks (0.16967959053589055):\n",
    "\n",
    "A correlação entre assistências e bloqueios é relativamente baixa, sugerindo que não há uma relação forte entre ser um bom passador e realizar bloqueios. Isso pode refletir o fato de que essas habilidades são geralmente mais específicas para diferentes tipos de jogadores e posições em quadra.\n",
    "\n",
    "corr_fga_steals (0.639182126412356):\n",
    "\n",
    "Existe uma correlação positiva moderadamente forte entre o número de arremessos tentados e roubos de bola. Isso pode indicar que jogadores que são mais ofensivamente agressivos (tentam mais arremessos) também são ativos defensivamente, envolvendo-se em jogadas que podem resultar em roubos de bola.\n",
    "\n",
    "corr_fga_blocks (0.33120803010025945):\n",
    "\n",
    "Há uma correlação moderada entre arremessos tentados e bloqueios. Isso sugere que, embora menos forte do que outras correlações, jogadores que tentam muitos arremessos podem também contribuir com bloqueios, indicando um papel ativo em ambas as extremidades da quadra."
   ]
  },
  {
   "cell_type": "code",
   "execution_count": 0,
   "metadata": {
    "application/vnd.databricks.v1+cell": {
     "cellMetadata": {
      "byteLimit": 2048000,
      "implicitDf": true,
      "rowLimit": 10000
     },
     "inputWidgets": {},
     "nuid": "6ee1eaea-8c65-4826-aba2-5f9813a72354",
     "showTitle": false,
     "title": ""
    }
   },
   "outputs": [
    {
     "output_type": "display_data",
     "data": {
      "text/html": [
       "<style scoped>\n",
       "  .table-result-container {\n",
       "    max-height: 300px;\n",
       "    overflow: auto;\n",
       "  }\n",
       "  table, th, td {\n",
       "    border: 1px solid black;\n",
       "    border-collapse: collapse;\n",
       "  }\n",
       "  th, td {\n",
       "    padding: 5px;\n",
       "  }\n",
       "  th {\n",
       "    text-align: left;\n",
       "  }\n",
       "</style><div class='table-result-container'><table class='table-result'><thead style='background-color: white'><tr><th>corr_points_steals</th><th>corr_points_blocks</th><th>corr_assists_steals</th><th>corr_assists_blocks</th><th>corr_fga_steals</th><th>corr_fga_blocks</th></tr></thead><tbody><tr><td>0.6235966764128418</td><td>0.461033950853624</td><td>0.6776032890324655</td><td>0.2690861572064153</td><td>0.6411462072970808</td><td>0.4159373039062268</td></tr></tbody></table></div>"
      ]
     },
     "metadata": {
      "application/vnd.databricks.v1+output": {
       "addedWidgets": {},
       "aggData": [],
       "aggError": "",
       "aggOverflow": false,
       "aggSchema": [],
       "aggSeriesLimitReached": false,
       "aggType": "",
       "arguments": {},
       "columnCustomDisplayInfos": {},
       "data": [
        [
         0.6235966764128418,
         0.461033950853624,
         0.6776032890324655,
         0.2690861572064153,
         0.6411462072970808,
         0.4159373039062268
        ]
       ],
       "datasetInfos": [],
       "dbfsResultPath": null,
       "isJsonSchema": true,
       "metadata": {},
       "overflow": false,
       "plotOptions": {
        "customPlotOptions": {},
        "displayType": "table",
        "pivotAggregation": null,
        "pivotColumns": null,
        "xColumns": null,
        "yColumns": null
       },
       "removedWidgets": [],
       "schema": [
        {
         "metadata": "{}",
         "name": "corr_points_steals",
         "type": "\"double\""
        },
        {
         "metadata": "{}",
         "name": "corr_points_blocks",
         "type": "\"double\""
        },
        {
         "metadata": "{}",
         "name": "corr_assists_steals",
         "type": "\"double\""
        },
        {
         "metadata": "{}",
         "name": "corr_assists_blocks",
         "type": "\"double\""
        },
        {
         "metadata": "{}",
         "name": "corr_fga_steals",
         "type": "\"double\""
        },
        {
         "metadata": "{}",
         "name": "corr_fga_blocks",
         "type": "\"double\""
        }
       ],
       "type": "table"
      }
     },
     "output_type": "display_data"
    }
   ],
   "source": [
    "%sql\n",
    "\n",
    "WITH 2021_2022_NBA_Player_Stats_Playoffs_csv AS (\n",
    "  SELECT \n",
    "    Player,\n",
    "    AVG(PTS) AS avg_points,\n",
    "    AVG(AST) AS avg_assists,\n",
    "    AVG(FGA) AS avg_field_goal_attempts,\n",
    "    AVG(STL) AS avg_steals,\n",
    "    AVG(BLK) AS avg_blocks\n",
    "  FROM \n",
    "    2021_2022_NBA_Player_Stats_Playoffs_csv\n",
    "  GROUP BY \n",
    "    Player\n",
    ")\n",
    "\n",
    "SELECT \n",
    "  CORR(avg_points, avg_steals) AS corr_points_steals,\n",
    "  CORR(avg_points, avg_blocks) AS corr_points_blocks,\n",
    "  CORR(avg_assists, avg_steals) AS corr_assists_steals,\n",
    "  CORR(avg_assists, avg_blocks) AS corr_assists_blocks,\n",
    "  CORR(avg_field_goal_attempts, avg_steals) AS corr_fga_steals,\n",
    "  CORR(avg_field_goal_attempts, avg_blocks) AS corr_fga_blocks\n",
    "FROM \n",
    "  2021_2022_NBA_Player_Stats_Playoffs_csv\n"
   ]
  },
  {
   "cell_type": "markdown",
   "metadata": {
    "application/vnd.databricks.v1+cell": {
     "cellMetadata": {
      "byteLimit": 2048000,
      "rowLimit": 10000
     },
     "inputWidgets": {},
     "nuid": "4a1877b2-7cf2-46b0-bf12-09669413a143",
     "showTitle": false,
     "title": ""
    }
   },
   "source": [
    "\n",
    "Pontos e Roubos (Steals)\n",
    "\n",
    "Temporada Regular: A correlação era significativa, sugerindo que jogadores que pontuam mais também participam ativamente na defesa.\n",
    "Playoffs: A correlação permaneceu forte (0.6235966764128418), indicando que essa tendência se intensifica nos playoffs.\n",
    "\n",
    "Pontos e Bloqueios (Blocks)\n",
    "\n",
    "Temporada Regular: Existia uma correlação moderada, indicando que jogadores que pontuam também contribuem com bloqueios.\n",
    "Playoffs: A correlação ainda é moderada (0.461033950853624), mas ligeiramente mais fraca comparada à temporada regular.\n",
    "\n",
    "Assistências e Roubos\n",
    "\n",
    "Temporada Regular: A correlação era forte, refletindo que jogadores com boa visão de jogo e habilidades de passe também são bons na defesa.\n",
    "Playoffs: A correlação ficou ainda mais forte (0.6776032890324655), reforçando que a capacidade de antecipação e atenção à defesa são críticas nos playoffs.\n",
    "\n",
    "Assistências e Bloqueios\n",
    "\n",
    "Temporada Regular: A correlação era relativamente fraca.\n",
    "Playoffs: A correlação aumentou um pouco (0.2690861572064153), mas ainda é considerada fraca, sugerindo que essa não é uma tendência generalizada.\n",
    "\n",
    "Arremessos Tentados (FGA) e Roubos\n",
    "\n",
    "Temporada Regular: Correlação moderadamente forte, mostrando que jogadores que tentam muitos arremessos também são envolvidos na defesa.\n",
    "Playoffs: A correlação é semelhante (0.6411462072970808), mantendo a ideia de que atividade ofensiva elevada acompanha participação defensiva.\n",
    "\n",
    "Arremessos Tentados e Bloqueios\n",
    "\n",
    "Temporada Regular: A correlação era moderada.\n",
    "Playoffs: Similarmente moderada (0.4159373039062268), indicando consistência nesse aspecto entre temporada regular e playoffs.\n",
    "\n",
    "Conclusão Geral da Comparação\n",
    "Os dados dos playoffs mostram uma tendência geral de manutenção ou mesmo intensificação das correlações observadas durante a temporada regular. As habilidades que combinam ação ofensiva com defesa ativa parecem ainda mais pronunciadas nos playoffs, talvez devido à maior intensidade e aos maiores desafios defensivos que os jogos eliminatórios apresentam. Jogadores que conseguem manter ou elevar seu desempenho em ambas as extremidades da quadra são especialmente valorizados durante os playoffs, onde cada posse de bola é crucial."
   ]
  },
  {
   "cell_type": "markdown",
   "metadata": {
    "application/vnd.databricks.v1+cell": {
     "cellMetadata": {
      "byteLimit": 2048000,
      "rowLimit": 10000
     },
     "inputWidgets": {},
     "nuid": "ea9b7614-62ba-436e-a806-bddff3d33ce3",
     "showTitle": false,
     "title": ""
    }
   },
   "source": [
    "\n",
    "2) Jogadores que se destacam tanto ofensivamente quanto defensivamente"
   ]
  },
  {
   "cell_type": "markdown",
   "metadata": {
    "application/vnd.databricks.v1+cell": {
     "cellMetadata": {
      "byteLimit": 2048000,
      "rowLimit": 10000
     },
     "inputWidgets": {},
     "nuid": "6904beb8-74cf-4fa4-9110-8b1a84a663b8",
     "showTitle": false,
     "title": ""
    }
   },
   "source": [
    "\n",
    "Para identificar quais jogadores se destacam tanto ofensivamente quanto defensivamente na NBA, deve-se considerar jogadores que estão acima de certos percentis em estatísticas ofensivas (como pontos e assistências) e defensivas (como roubos de bola e bloqueios). A consulta SQL a seguir calcula essas estatísticas e lista os jogadores que estão no top 5% (fase regular) e top 10% (playoffs) em pelo menos duas dessas categoria. Trata-se de um grupo bem seleto de jogadores de alto valor agregado para suas respectivas equipes.\n"
   ]
  },
  {
   "cell_type": "markdown",
   "metadata": {
    "application/vnd.databricks.v1+cell": {
     "cellMetadata": {
      "byteLimit": 2048000,
      "rowLimit": 10000
     },
     "inputWidgets": {},
     "nuid": "6a84ad4a-49a6-4c73-9c71-84c2aaf3521f",
     "showTitle": false,
     "title": ""
    }
   },
   "source": [
    "\n",
    "Lista de destaques fase regular"
   ]
  },
  {
   "cell_type": "code",
   "execution_count": 0,
   "metadata": {
    "application/vnd.databricks.v1+cell": {
     "cellMetadata": {
      "byteLimit": 2048000,
      "implicitDf": true,
      "rowLimit": 10000
     },
     "inputWidgets": {},
     "nuid": "4b11e556-7acb-4d02-9b19-0a6fdaaea02d",
     "showTitle": false,
     "title": ""
    }
   },
   "outputs": [
    {
     "output_type": "display_data",
     "data": {
      "text/html": [
       "<style scoped>\n",
       "  .table-result-container {\n",
       "    max-height: 300px;\n",
       "    overflow: auto;\n",
       "  }\n",
       "  table, th, td {\n",
       "    border: 1px solid black;\n",
       "    border-collapse: collapse;\n",
       "  }\n",
       "  th, td {\n",
       "    padding: 5px;\n",
       "  }\n",
       "  th {\n",
       "    text-align: left;\n",
       "  }\n",
       "</style><div class='table-result-container'><table class='table-result'><thead style='background-color: white'><tr><th>Player</th><th>avg_points</th><th>avg_assists</th><th>avg_steals</th><th>avg_blocks</th></tr></thead><tbody><tr><td>Joel Embiid</td><td>30.6</td><td>4.2</td><td>1.1</td><td>1.5</td></tr><tr><td>LeBron James</td><td>30.3</td><td>6.2</td><td>1.3</td><td>1.1</td></tr><tr><td>Giannis Antetokounmpo</td><td>29.9</td><td>5.8</td><td>1.1</td><td>1.4</td></tr><tr><td>Kyrie Irving</td><td>27.4</td><td>5.8</td><td>1.4</td><td>0.6</td></tr><tr><td>Nikola Joki?</td><td>27.1</td><td>7.9</td><td>1.5</td><td>0.9</td></tr><tr><td>Donovan Mitchell</td><td>25.9</td><td>5.3</td><td>1.5</td><td>0.2</td></tr><tr><td>Stephen Curry</td><td>25.5</td><td>6.3</td><td>1.3</td><td>0.4</td></tr><tr><td>Karl-Anthony Towns</td><td>24.6</td><td>3.6</td><td>1.0</td><td>1.1</td></tr><tr><td>Shai Gilgeous-Alexander</td><td>24.5</td><td>5.9</td><td>1.3</td><td>0.8</td></tr><tr><td>Paul George</td><td>24.3</td><td>5.7</td><td>2.2</td><td>0.4</td></tr><tr><td>Anthony Davis</td><td>23.2</td><td>3.1</td><td>1.2</td><td>2.3</td></tr><tr><td>Pascal Siakam</td><td>22.8</td><td>5.3</td><td>1.3</td><td>0.6</td></tr><tr><td>Darius Garland</td><td>21.7</td><td>8.6</td><td>1.3</td><td>0.1</td></tr><tr><td>Jimmy Butler</td><td>21.4</td><td>5.5</td><td>1.6</td><td>0.5</td></tr><tr><td>Anthony Edwards</td><td>21.3</td><td>3.8</td><td>1.5</td><td>0.6</td></tr><tr><td>Dejounte Murray</td><td>21.1</td><td>9.2</td><td>2.0</td><td>0.3</td></tr><tr><td>Fred VanVleet</td><td>20.3</td><td>6.7</td><td>1.7</td><td>0.5</td></tr><tr><td>LaMelo Ball</td><td>20.1</td><td>7.6</td><td>1.6</td><td>0.4</td></tr><tr><td>Jrue Holiday</td><td>18.3</td><td>6.8</td><td>1.6</td><td>0.4</td></tr><tr><td>Tyrese Haliburton</td><td>15.700000000000001</td><td>8.4</td><td>1.7333333333333334</td><td>0.6333333333333333</td></tr><tr><td>Chris Paul</td><td>14.7</td><td>10.8</td><td>1.9</td><td>0.3</td></tr><tr><td>Ricky Rubio</td><td>13.1</td><td>6.6</td><td>1.4</td><td>0.2</td></tr><tr><td>Marcus Smart</td><td>12.1</td><td>5.9</td><td>1.7</td><td>0.3</td></tr><tr><td>Zavier Simpson</td><td>11.0</td><td>7.5</td><td>1.3</td><td>1.0</td></tr><tr><td>Draymond Green</td><td>7.5</td><td>7.0</td><td>1.3</td><td>1.1</td></tr><tr><td>Derrick Walton</td><td>6.3</td><td>7.0</td><td>2.3</td><td>1.3</td></tr></tbody></table></div>"
      ]
     },
     "metadata": {
      "application/vnd.databricks.v1+output": {
       "addedWidgets": {},
       "aggData": [],
       "aggError": "",
       "aggOverflow": false,
       "aggSchema": [],
       "aggSeriesLimitReached": false,
       "aggType": "",
       "arguments": {},
       "columnCustomDisplayInfos": {},
       "data": [
        [
         "Joel Embiid",
         30.6,
         4.2,
         1.1,
         1.5
        ],
        [
         "LeBron James",
         30.3,
         6.2,
         1.3,
         1.1
        ],
        [
         "Giannis Antetokounmpo",
         29.9,
         5.8,
         1.1,
         1.4
        ],
        [
         "Kyrie Irving",
         27.4,
         5.8,
         1.4,
         0.6
        ],
        [
         "Nikola Joki?",
         27.1,
         7.9,
         1.5,
         0.9
        ],
        [
         "Donovan Mitchell",
         25.9,
         5.3,
         1.5,
         0.2
        ],
        [
         "Stephen Curry",
         25.5,
         6.3,
         1.3,
         0.4
        ],
        [
         "Karl-Anthony Towns",
         24.6,
         3.6,
         1.0,
         1.1
        ],
        [
         "Shai Gilgeous-Alexander",
         24.5,
         5.9,
         1.3,
         0.8
        ],
        [
         "Paul George",
         24.3,
         5.7,
         2.2,
         0.4
        ],
        [
         "Anthony Davis",
         23.2,
         3.1,
         1.2,
         2.3
        ],
        [
         "Pascal Siakam",
         22.8,
         5.3,
         1.3,
         0.6
        ],
        [
         "Darius Garland",
         21.7,
         8.6,
         1.3,
         0.1
        ],
        [
         "Jimmy Butler",
         21.4,
         5.5,
         1.6,
         0.5
        ],
        [
         "Anthony Edwards",
         21.3,
         3.8,
         1.5,
         0.6
        ],
        [
         "Dejounte Murray",
         21.1,
         9.2,
         2.0,
         0.3
        ],
        [
         "Fred VanVleet",
         20.3,
         6.7,
         1.7,
         0.5
        ],
        [
         "LaMelo Ball",
         20.1,
         7.6,
         1.6,
         0.4
        ],
        [
         "Jrue Holiday",
         18.3,
         6.8,
         1.6,
         0.4
        ],
        [
         "Tyrese Haliburton",
         15.700000000000001,
         8.4,
         1.7333333333333334,
         0.6333333333333333
        ],
        [
         "Chris Paul",
         14.7,
         10.8,
         1.9,
         0.3
        ],
        [
         "Ricky Rubio",
         13.1,
         6.6,
         1.4,
         0.2
        ],
        [
         "Marcus Smart",
         12.1,
         5.9,
         1.7,
         0.3
        ],
        [
         "Zavier Simpson",
         11.0,
         7.5,
         1.3,
         1.0
        ],
        [
         "Draymond Green",
         7.5,
         7.0,
         1.3,
         1.1
        ],
        [
         "Derrick Walton",
         6.3,
         7.0,
         2.3,
         1.3
        ]
       ],
       "datasetInfos": [],
       "dbfsResultPath": null,
       "isJsonSchema": true,
       "metadata": {},
       "overflow": false,
       "plotOptions": {
        "customPlotOptions": {},
        "displayType": "table",
        "pivotAggregation": null,
        "pivotColumns": null,
        "xColumns": null,
        "yColumns": null
       },
       "removedWidgets": [],
       "schema": [
        {
         "metadata": "{}",
         "name": "Player",
         "type": "\"string\""
        },
        {
         "metadata": "{}",
         "name": "avg_points",
         "type": "\"double\""
        },
        {
         "metadata": "{}",
         "name": "avg_assists",
         "type": "\"double\""
        },
        {
         "metadata": "{}",
         "name": "avg_steals",
         "type": "\"double\""
        },
        {
         "metadata": "{}",
         "name": "avg_blocks",
         "type": "\"double\""
        }
       ],
       "type": "table"
      }
     },
     "output_type": "display_data"
    }
   ],
   "source": [
    "%sql\n",
    "\n",
    "WITH 2021_2022_NBA_Player_Stats___Regular_csv AS (\n",
    "    SELECT \n",
    "        Player,\n",
    "        AVG(PTS) AS avg_points,\n",
    "        AVG(AST) AS avg_assists,\n",
    "        AVG(STL) AS avg_steals,\n",
    "        AVG(BLK) AS avg_blocks\n",
    "    FROM \n",
    "        2021_2022_NBA_Player_Stats___Regular_csv\n",
    "    GROUP BY \n",
    "        Player\n",
    "),\n",
    "Percentiles AS (\n",
    "    SELECT \n",
    "        Player,\n",
    "        avg_points,\n",
    "        avg_assists,\n",
    "        avg_steals,\n",
    "        avg_blocks,\n",
    "        PERCENT_RANK() OVER (ORDER BY avg_points DESC) AS pr_points,\n",
    "        PERCENT_RANK() OVER (ORDER BY avg_assists DESC) AS pr_assists,\n",
    "        PERCENT_RANK() OVER (ORDER BY avg_steals DESC) AS pr_steals,\n",
    "        PERCENT_RANK() OVER (ORDER BY avg_blocks DESC) AS pr_blocks\n",
    "    FROM \n",
    "        2021_2022_NBA_Player_Stats___Regular_csv\n",
    ")\n",
    "SELECT \n",
    "    Player,\n",
    "    avg_points,\n",
    "    avg_assists,\n",
    "    avg_steals,\n",
    "    avg_blocks\n",
    "FROM \n",
    "    Percentiles\n",
    "WHERE \n",
    "    (pr_points <= 0.05 AND pr_steals <= 0.05) OR \n",
    "    (pr_points <= 0.05 AND pr_blocks <= 0.05) OR \n",
    "    (pr_assists <= 0.05 AND pr_steals <= 0.05) OR \n",
    "    (pr_assists <= 0.05 AND pr_blocks <= 0.05)\n"
   ]
  },
  {
   "cell_type": "markdown",
   "metadata": {
    "application/vnd.databricks.v1+cell": {
     "cellMetadata": {
      "byteLimit": 2048000,
      "rowLimit": 10000
     },
     "inputWidgets": {},
     "nuid": "d8df21a5-1354-47ec-9e47-eb7f89ac0f1b",
     "showTitle": false,
     "title": ""
    }
   },
   "source": [
    "\n",
    "Lista de destaques fase playoffs"
   ]
  },
  {
   "cell_type": "code",
   "execution_count": 0,
   "metadata": {
    "application/vnd.databricks.v1+cell": {
     "cellMetadata": {
      "byteLimit": 2048000,
      "implicitDf": true,
      "rowLimit": 10000
     },
     "inputWidgets": {},
     "nuid": "5230afde-d343-40b9-aff6-dbf23ba2f3f3",
     "showTitle": false,
     "title": ""
    }
   },
   "outputs": [
    {
     "output_type": "display_data",
     "data": {
      "text/html": [
       "<style scoped>\n",
       "  .table-result-container {\n",
       "    max-height: 300px;\n",
       "    overflow: auto;\n",
       "  }\n",
       "  table, th, td {\n",
       "    border: 1px solid black;\n",
       "    border-collapse: collapse;\n",
       "  }\n",
       "  th, td {\n",
       "    padding: 5px;\n",
       "  }\n",
       "  th {\n",
       "    text-align: left;\n",
       "  }\n",
       "</style><div class='table-result-container'><table class='table-result'><thead style='background-color: white'><tr><th>Player</th><th>avg_points</th><th>avg_assists</th><th>avg_steals</th><th>avg_blocks</th></tr></thead><tbody><tr><td>Giannis Antetokounmpo</td><td>31.7</td><td>6.8</td><td>0.7</td><td>1.3</td></tr><tr><td>Luka Don?i?</td><td>31.7</td><td>6.4</td><td>1.8</td><td>0.6</td></tr><tr><td>Nikola Joki?</td><td>31.0</td><td>5.8</td><td>1.6</td><td>1.0</td></tr><tr><td>Jimmy Butler</td><td>27.4</td><td>4.6</td><td>2.1</td><td>0.6</td></tr><tr><td>Stephen Curry</td><td>27.4</td><td>5.9</td><td>1.3</td><td>0.4</td></tr><tr><td>Ja Morant</td><td>27.1</td><td>9.8</td><td>2.0</td><td>0.4</td></tr><tr><td>Jayson Tatum</td><td>25.6</td><td>6.2</td><td>1.2</td><td>0.9</td></tr><tr><td>Anthony Edwards</td><td>25.2</td><td>3.0</td><td>1.2</td><td>1.2</td></tr><tr><td>Pascal Siakam</td><td>22.8</td><td>5.8</td><td>1.2</td><td>1.0</td></tr><tr><td>Karl-Anthony Towns</td><td>21.8</td><td>2.2</td><td>0.7</td><td>2.0</td></tr><tr><td>Kyrie Irving</td><td>21.3</td><td>5.3</td><td>1.8</td><td>1.3</td></tr><tr><td>DeMar DeRozan</td><td>20.8</td><td>4.8</td><td>1.8</td><td>0.4</td></tr><tr><td>Jrue Holiday</td><td>19.1</td><td>6.5</td><td>1.8</td><td>0.6</td></tr><tr><td>Chris Paul</td><td>17.5</td><td>8.3</td><td>1.5</td><td>0.2</td></tr><tr><td>Marcus Smart</td><td>15.4</td><td>5.9</td><td>1.2</td><td>0.2</td></tr><tr><td>Khris Middleton</td><td>14.5</td><td>7.0</td><td>1.5</td><td>0.0</td></tr><tr><td>Monte Morris</td><td>14.0</td><td>5.4</td><td>1.2</td><td>0.0</td></tr><tr><td>Fred VanVleet</td><td>13.8</td><td>6.3</td><td>1.8</td><td>1.0</td></tr><tr><td>D'Angelo Russell</td><td>12.0</td><td>6.7</td><td>1.5</td><td>0.0</td></tr><tr><td>Draymond Green</td><td>8.0</td><td>6.3</td><td>1.1</td><td>1.0</td></tr></tbody></table></div>"
      ]
     },
     "metadata": {
      "application/vnd.databricks.v1+output": {
       "addedWidgets": {},
       "aggData": [],
       "aggError": "",
       "aggOverflow": false,
       "aggSchema": [],
       "aggSeriesLimitReached": false,
       "aggType": "",
       "arguments": {},
       "columnCustomDisplayInfos": {},
       "data": [
        [
         "Giannis Antetokounmpo",
         31.7,
         6.8,
         0.7,
         1.3
        ],
        [
         "Luka Don?i?",
         31.7,
         6.4,
         1.8,
         0.6
        ],
        [
         "Nikola Joki?",
         31.0,
         5.8,
         1.6,
         1.0
        ],
        [
         "Jimmy Butler",
         27.4,
         4.6,
         2.1,
         0.6
        ],
        [
         "Stephen Curry",
         27.4,
         5.9,
         1.3,
         0.4
        ],
        [
         "Ja Morant",
         27.1,
         9.8,
         2.0,
         0.4
        ],
        [
         "Jayson Tatum",
         25.6,
         6.2,
         1.2,
         0.9
        ],
        [
         "Anthony Edwards",
         25.2,
         3.0,
         1.2,
         1.2
        ],
        [
         "Pascal Siakam",
         22.8,
         5.8,
         1.2,
         1.0
        ],
        [
         "Karl-Anthony Towns",
         21.8,
         2.2,
         0.7,
         2.0
        ],
        [
         "Kyrie Irving",
         21.3,
         5.3,
         1.8,
         1.3
        ],
        [
         "DeMar DeRozan",
         20.8,
         4.8,
         1.8,
         0.4
        ],
        [
         "Jrue Holiday",
         19.1,
         6.5,
         1.8,
         0.6
        ],
        [
         "Chris Paul",
         17.5,
         8.3,
         1.5,
         0.2
        ],
        [
         "Marcus Smart",
         15.4,
         5.9,
         1.2,
         0.2
        ],
        [
         "Khris Middleton",
         14.5,
         7.0,
         1.5,
         0.0
        ],
        [
         "Monte Morris",
         14.0,
         5.4,
         1.2,
         0.0
        ],
        [
         "Fred VanVleet",
         13.8,
         6.3,
         1.8,
         1.0
        ],
        [
         "D'Angelo Russell",
         12.0,
         6.7,
         1.5,
         0.0
        ],
        [
         "Draymond Green",
         8.0,
         6.3,
         1.1,
         1.0
        ]
       ],
       "datasetInfos": [],
       "dbfsResultPath": null,
       "isJsonSchema": true,
       "metadata": {},
       "overflow": false,
       "plotOptions": {
        "customPlotOptions": {},
        "displayType": "table",
        "pivotAggregation": null,
        "pivotColumns": null,
        "xColumns": null,
        "yColumns": null
       },
       "removedWidgets": [],
       "schema": [
        {
         "metadata": "{}",
         "name": "Player",
         "type": "\"string\""
        },
        {
         "metadata": "{}",
         "name": "avg_points",
         "type": "\"double\""
        },
        {
         "metadata": "{}",
         "name": "avg_assists",
         "type": "\"double\""
        },
        {
         "metadata": "{}",
         "name": "avg_steals",
         "type": "\"double\""
        },
        {
         "metadata": "{}",
         "name": "avg_blocks",
         "type": "\"double\""
        }
       ],
       "type": "table"
      }
     },
     "output_type": "display_data"
    }
   ],
   "source": [
    "%sql\n",
    "\n",
    "WITH 2021_2022_NBA_Player_Stats_Playoffs_csv AS (\n",
    "    SELECT \n",
    "        Player,\n",
    "        AVG(PTS) AS avg_points,\n",
    "        AVG(AST) AS avg_assists,\n",
    "        AVG(STL) AS avg_steals,\n",
    "        AVG(BLK) AS avg_blocks\n",
    "    FROM \n",
    "        2021_2022_NBA_Player_Stats_Playoffs_csv\n",
    "    GROUP BY \n",
    "        Player\n",
    "),\n",
    "Percentiles AS (\n",
    "    SELECT \n",
    "        Player,\n",
    "        avg_points,\n",
    "        avg_assists,\n",
    "        avg_steals,\n",
    "        avg_blocks,\n",
    "        PERCENT_RANK() OVER (ORDER BY avg_points DESC) AS pr_points,\n",
    "        PERCENT_RANK() OVER (ORDER BY avg_assists DESC) AS pr_assists,\n",
    "        PERCENT_RANK() OVER (ORDER BY avg_steals DESC) AS pr_steals,\n",
    "        PERCENT_RANK() OVER (ORDER BY avg_blocks DESC) AS pr_blocks\n",
    "    FROM \n",
    "        2021_2022_NBA_Player_Stats_Playoffs_csv\n",
    ")\n",
    "SELECT \n",
    "    Player,\n",
    "    avg_points,\n",
    "    avg_assists,\n",
    "    avg_steals,\n",
    "    avg_blocks\n",
    "FROM \n",
    "    Percentiles\n",
    "WHERE \n",
    "    (pr_points <= 0.1 AND pr_steals <= 0.1) OR \n",
    "    (pr_points <= 0.1 AND pr_blocks <= 0.1) OR \n",
    "    (pr_assists <= 0.1 AND pr_steals <= 0.1) OR \n",
    "    (pr_assists <= 0.1 AND pr_blocks <= 0.1)\n"
   ]
  },
  {
   "cell_type": "markdown",
   "metadata": {
    "application/vnd.databricks.v1+cell": {
     "cellMetadata": {
      "byteLimit": 2048000,
      "rowLimit": 10000
     },
     "inputWidgets": {},
     "nuid": "b5f065b4-629c-47ae-b939-09befcdf7301",
     "showTitle": false,
     "title": ""
    }
   },
   "source": [
    "\n",
    "3) Relação entre idade e desempenho na NBA 2021-2022\n"
   ]
  },
  {
   "cell_type": "markdown",
   "metadata": {
    "application/vnd.databricks.v1+cell": {
     "cellMetadata": {
      "byteLimit": 2048000,
      "rowLimit": 10000
     },
     "inputWidgets": {},
     "nuid": "23643808-498a-497f-8a38-45cd7f9efb57",
     "showTitle": false,
     "title": ""
    }
   },
   "source": [
    "\n",
    "Fase regular"
   ]
  },
  {
   "cell_type": "code",
   "execution_count": 0,
   "metadata": {
    "application/vnd.databricks.v1+cell": {
     "cellMetadata": {
      "byteLimit": 2048000,
      "implicitDf": true,
      "rowLimit": 10000
     },
     "inputWidgets": {},
     "nuid": "3f474692-b78c-4185-85af-c5b57a98aeaf",
     "showTitle": false,
     "title": ""
    }
   },
   "outputs": [
    {
     "output_type": "display_data",
     "data": {
      "text/html": [
       "<style scoped>\n",
       "  .table-result-container {\n",
       "    max-height: 300px;\n",
       "    overflow: auto;\n",
       "  }\n",
       "  table, th, td {\n",
       "    border: 1px solid black;\n",
       "    border-collapse: collapse;\n",
       "  }\n",
       "  th, td {\n",
       "    padding: 5px;\n",
       "  }\n",
       "  th {\n",
       "    text-align: left;\n",
       "  }\n",
       "</style><div class='table-result-container'><table class='table-result'><thead style='background-color: white'><tr><th>correlation_points_age</th><th>correlation_assists_age</th><th>correlation_rebounds_age</th><th>correlation_steals_age</th><th>correlation_blocks_age</th></tr></thead><tbody><tr><td>-0.05542464420349225</td><td>0.13178364167040066</td><td>-0.09245079126384152</td><td>-0.12071302383358612</td><td>0.025081532513309388</td></tr></tbody></table></div>"
      ]
     },
     "metadata": {
      "application/vnd.databricks.v1+output": {
       "addedWidgets": {},
       "aggData": [],
       "aggError": "",
       "aggOverflow": false,
       "aggSchema": [],
       "aggSeriesLimitReached": false,
       "aggType": "",
       "arguments": {},
       "columnCustomDisplayInfos": {},
       "data": [
        [
         -0.05542464420349225,
         0.13178364167040066,
         -0.09245079126384152,
         -0.12071302383358612,
         0.025081532513309388
        ]
       ],
       "datasetInfos": [],
       "dbfsResultPath": null,
       "isJsonSchema": true,
       "metadata": {},
       "overflow": false,
       "plotOptions": {
        "customPlotOptions": {},
        "displayType": "table",
        "pivotAggregation": null,
        "pivotColumns": null,
        "xColumns": null,
        "yColumns": null
       },
       "removedWidgets": [],
       "schema": [
        {
         "metadata": "{}",
         "name": "correlation_points_age",
         "type": "\"double\""
        },
        {
         "metadata": "{}",
         "name": "correlation_assists_age",
         "type": "\"double\""
        },
        {
         "metadata": "{}",
         "name": "correlation_rebounds_age",
         "type": "\"double\""
        },
        {
         "metadata": "{}",
         "name": "correlation_steals_age",
         "type": "\"double\""
        },
        {
         "metadata": "{}",
         "name": "correlation_blocks_age",
         "type": "\"double\""
        }
       ],
       "type": "table"
      }
     },
     "output_type": "display_data"
    }
   ],
   "source": [
    "%sql\n",
    "\n",
    "WITH AgeStats AS (\n",
    "    SELECT \n",
    "        Age,\n",
    "        AVG(PTS) AS avg_points,\n",
    "        AVG(AST) AS avg_assists,\n",
    "        AVG(TRB) AS avg_rebounds,\n",
    "        AVG(STL) AS avg_steals,\n",
    "        AVG(BLK) AS avg_blocks\n",
    "    FROM \n",
    "        2021_2022_NBA_Player_Stats___Regular_csv\n",
    "    GROUP BY \n",
    "        Age\n",
    ")\n",
    "SELECT \n",
    "    CORR(Age, avg_points) AS correlation_points_age,\n",
    "    CORR(Age, avg_assists) AS correlation_assists_age,\n",
    "    CORR(Age, avg_rebounds) AS correlation_rebounds_age,\n",
    "    CORR(Age, avg_steals) AS correlation_steals_age,\n",
    "    CORR(Age, avg_blocks) AS correlation_blocks_age\n",
    "FROM \n",
    "    AgeStats\n"
   ]
  },
  {
   "cell_type": "markdown",
   "metadata": {
    "application/vnd.databricks.v1+cell": {
     "cellMetadata": {
      "byteLimit": 2048000,
      "rowLimit": 10000
     },
     "inputWidgets": {},
     "nuid": "b0654282-1d33-4fa9-a9b4-2028e126fb84",
     "showTitle": false,
     "title": ""
    }
   },
   "source": [
    "\n",
    "Fase playoffs"
   ]
  },
  {
   "cell_type": "code",
   "execution_count": 0,
   "metadata": {
    "application/vnd.databricks.v1+cell": {
     "cellMetadata": {
      "byteLimit": 2048000,
      "implicitDf": true,
      "rowLimit": 10000
     },
     "inputWidgets": {},
     "nuid": "82e629d3-8e23-41e3-9c93-f3550a74535d",
     "showTitle": false,
     "title": ""
    }
   },
   "outputs": [
    {
     "output_type": "display_data",
     "data": {
      "text/html": [
       "<style scoped>\n",
       "  .table-result-container {\n",
       "    max-height: 300px;\n",
       "    overflow: auto;\n",
       "  }\n",
       "  table, th, td {\n",
       "    border: 1px solid black;\n",
       "    border-collapse: collapse;\n",
       "  }\n",
       "  th, td {\n",
       "    padding: 5px;\n",
       "  }\n",
       "  th {\n",
       "    text-align: left;\n",
       "  }\n",
       "</style><div class='table-result-container'><table class='table-result'><thead style='background-color: white'><tr><th>correlation_points_age</th><th>correlation_assists_age</th><th>correlation_rebounds_age</th><th>correlation_steals_age</th><th>correlation_blocks_age</th></tr></thead><tbody><tr><td>5.698857266094467E-4</td><td>0.5812869445134746</td><td>0.246179021060128</td><td>0.11972125153849586</td><td>0.1470290561824736</td></tr></tbody></table></div>"
      ]
     },
     "metadata": {
      "application/vnd.databricks.v1+output": {
       "addedWidgets": {},
       "aggData": [],
       "aggError": "",
       "aggOverflow": false,
       "aggSchema": [],
       "aggSeriesLimitReached": false,
       "aggType": "",
       "arguments": {},
       "columnCustomDisplayInfos": {},
       "data": [
        [
         5.698857266094467E-4,
         0.5812869445134746,
         0.246179021060128,
         0.11972125153849586,
         0.1470290561824736
        ]
       ],
       "datasetInfos": [],
       "dbfsResultPath": null,
       "isJsonSchema": true,
       "metadata": {},
       "overflow": false,
       "plotOptions": {
        "customPlotOptions": {},
        "displayType": "table",
        "pivotAggregation": null,
        "pivotColumns": null,
        "xColumns": null,
        "yColumns": null
       },
       "removedWidgets": [],
       "schema": [
        {
         "metadata": "{}",
         "name": "correlation_points_age",
         "type": "\"double\""
        },
        {
         "metadata": "{}",
         "name": "correlation_assists_age",
         "type": "\"double\""
        },
        {
         "metadata": "{}",
         "name": "correlation_rebounds_age",
         "type": "\"double\""
        },
        {
         "metadata": "{}",
         "name": "correlation_steals_age",
         "type": "\"double\""
        },
        {
         "metadata": "{}",
         "name": "correlation_blocks_age",
         "type": "\"double\""
        }
       ],
       "type": "table"
      }
     },
     "output_type": "display_data"
    }
   ],
   "source": [
    "%sql\n",
    "\n",
    "WITH AgeStats AS (\n",
    "    SELECT \n",
    "        Age,\n",
    "        AVG(PTS) AS avg_points,\n",
    "        AVG(AST) AS avg_assists,\n",
    "        AVG(TRB) AS avg_rebounds,\n",
    "        AVG(STL) AS avg_steals,\n",
    "        AVG(BLK) AS avg_blocks\n",
    "    FROM \n",
    "        2021_2022_NBA_Player_Stats_Playoffs_csv\n",
    "    GROUP BY \n",
    "        Age\n",
    ")\n",
    "SELECT \n",
    "    CORR(Age, avg_points) AS correlation_points_age,\n",
    "    CORR(Age, avg_assists) AS correlation_assists_age,\n",
    "    CORR(Age, avg_rebounds) AS correlation_rebounds_age,\n",
    "    CORR(Age, avg_steals) AS correlation_steals_age,\n",
    "    CORR(Age, avg_blocks) AS correlation_blocks_age\n",
    "FROM \n",
    "    AgeStats\n"
   ]
  },
  {
   "cell_type": "markdown",
   "metadata": {
    "application/vnd.databricks.v1+cell": {
     "cellMetadata": {
      "byteLimit": 2048000,
      "rowLimit": 10000
     },
     "inputWidgets": {},
     "nuid": "2c2bc715-faf8-46dc-9a2c-edafe7887732",
     "showTitle": false,
     "title": ""
    }
   },
   "source": [
    "\n",
    "Os resultados das correlações entre as estatísticas dos jogadores e suas idades durante os playoffs mostram algumas diferenças interessantes em comparação com os resultados da temporada regular. Vamos interpretar cada correlação dos dados dos playoffs e comparar com os resultados da fase regular:\n",
    "\n",
    "Pontos e Idade (0.0005698857266094467):\n",
    "\n",
    "Playoffs: A correlação entre pontos e idade é praticamente zero, indicando que não há relação discernível entre a idade dos jogadores e a quantidade de pontos que marcam durante os playoffs.\n",
    "Temporada Regular: A correlação também era muito fraca e negativa, sugerindo uma tendência quase inexistente.\n",
    "Comparação: Em ambos os casos, a idade não parece ser um fator determinante para a pontuação dos jogadores.\n",
    "\n",
    "Assistências e Idade (0.5812869445134746):\n",
    "\n",
    "Playoffs: Existe uma correlação positiva moderada a forte, indicando que jogadores mais velhos tendem a ter mais assistências nos playoffs. Isso pode refletir maior experiência ou um papel tático mais centrado em distribuição do jogo.\n",
    "Temporada Regular: A correlação era positiva, mas mais fraca.\n",
    "Comparação: A influência da idade sobre as assistências é mais pronunciada nos playoffs do que na temporada regular, possivelmente devido à natureza de alta pressão dos jogos que valoriza a experiência.\n",
    "\n",
    "Rebotes e Idade (0.246179021060128):\n",
    "\n",
    "Playoffs: A correlação positiva fraca a moderada sugere que jogadores mais velhos podem ter um desempenho ligeiramente melhor nos rebotes durante os playoffs.\n",
    "Temporada Regular: A correlação era negativa e fraca.\n",
    "Comparação: Diferente da temporada regular, onde a idade parecia levar a um declínio nos rebotes, nos playoffs, a experiência pode estar ajudando os jogadores a serem mais efetivos nesse aspecto.\n",
    "\n",
    "Roubos de Bola e Idade (0.11972125153849586):\n",
    "\n",
    "Playoffs: A correlação é positiva, mas fraca, indicando uma leve tendência de jogadores mais velhos conseguirem mais roubos de bola.\n",
    "Temporada Regular: A correlação era negativa e fraca.\n",
    "Comparação: Similar aos rebotes, jogadores mais velhos parecem se sair ligeiramente melhor em roubos de bola durante os playoffs comparados à temporada regular.\n",
    "\n",
    "Bloqueios e Idade (0.1470290561824736):\n",
    "\n",
    "Playoffs: Correlação positiva fraca, sugerindo que jogadores mais velhos podem bloquear ligeiramente mais chutes nos playoffs.\n",
    "Temporada Regular: A correlação era praticamente inexistente.\n",
    "Comparação: A tendência para bloqueios parece aumentar levemente com a idade nos playoffs, diferentemente do observado na temporada regular.\n",
    "\n",
    "Conclusão Geral\n",
    "Os resultados indicam que, durante os playoffs, a experiência (idade) dos jogadores pode ter uma influência mais positiva em assistências, rebotes, roubos de bola e bloqueios, em comparação com a temporada regular. Isso sugere que as habilidades e o conhecimento adquiridos com a idade podem ser mais valiosos sob a pressão dos playoffs, onde cada jogada é crucial."
   ]
  },
  {
   "cell_type": "markdown",
   "metadata": {
    "application/vnd.databricks.v1+cell": {
     "cellMetadata": {
      "byteLimit": 2048000,
      "rowLimit": 10000
     },
     "inputWidgets": {},
     "nuid": "e1206ee6-e9db-45fa-9219-a5839819ad38",
     "showTitle": false,
     "title": ""
    }
   },
   "source": [
    "\n",
    "Carga no Delta Lake"
   ]
  },
  {
   "cell_type": "markdown",
   "metadata": {
    "application/vnd.databricks.v1+cell": {
     "cellMetadata": {
      "byteLimit": 2048000,
      "rowLimit": 10000
     },
     "inputWidgets": {},
     "nuid": "6a60f4df-4d4b-4ab5-b4dd-729be371c48a",
     "showTitle": false,
     "title": ""
    }
   },
   "source": [
    "\n",
    "Neste projeto, optou-se por uma carga incremental. Ambos os datasets são extraídos do banco de dados e a transformação executada é simplesmente uma combinação (merge), de forma que possam ser feitas futuras análises de dados em cima de toda a temporada 2021 - 2022 (fase regular + playoffs)"
   ]
  },
  {
   "cell_type": "code",
   "execution_count": 0,
   "metadata": {
    "application/vnd.databricks.v1+cell": {
     "cellMetadata": {
      "byteLimit": 2048000,
      "rowLimit": 10000
     },
     "inputWidgets": {},
     "nuid": "44a8b248-ba75-4edc-89a8-5dc6bccac6dc",
     "showTitle": false,
     "title": ""
    }
   },
   "outputs": [],
   "source": [
    "# Extração\n",
    "\n",
    "# Carregando as tabelas delta em dataframes novos\n",
    "\n",
    "# Carregar os dados da temporada regular\n",
    "df_regular_season = spark.read.format(\"delta\").table(\"2021_2022_NBA_Player_Stats___Regular_csv\")\n",
    "\n",
    "# Carregar os dados dos playoffs\n",
    "df_playoffs = spark.read.format(\"delta\").table(\"2021_2022_NBA_Player_Stats_Playoffs_csv\")\n",
    "\n"
   ]
  },
  {
   "cell_type": "code",
   "execution_count": 0,
   "metadata": {
    "application/vnd.databricks.v1+cell": {
     "cellMetadata": {
      "byteLimit": 2048000,
      "rowLimit": 10000
     },
     "inputWidgets": {},
     "nuid": "32f402c4-7226-4ba1-a68b-29230266a622",
     "showTitle": false,
     "title": ""
    }
   },
   "outputs": [],
   "source": [
    "# Transformação e carga\n",
    "from delta.tables import DeltaTable\n",
    "\n",
    "# Obter o objeto DeltaTable para a tabela da temporada regular\n",
    "delta_table_regular = DeltaTable.forPath(spark, \"dbfs:/user/hive/warehouse/2021_2022_nba_player_stats___regular_csv\")\n",
    "\n",
    "# Comando de merge para combinar dados dos playoffs na tabela da temporada regular usando apenas 'Player' como chave\n",
    "(delta_table_regular.alias(\"regular\")\n",
    " .merge(\n",
    "     df_playoffs.alias(\"playoffs\"),\n",
    "     \"regular.Player = playoffs.Player\")  # Usando apenas Player como chave\n",
    " .whenMatchedUpdateAll()  # Atualiza os dados existentes se houver correspondência\n",
    " .whenNotMatchedInsertAll()  # Insere novos dados dos playoffs se não houver correspondência na tabela regular\n",
    " .execute()\n",
    ")\n"
   ]
  },
  {
   "cell_type": "code",
   "execution_count": 0,
   "metadata": {
    "application/vnd.databricks.v1+cell": {
     "cellMetadata": {
      "byteLimit": 2048000,
      "rowLimit": 10000
     },
     "inputWidgets": {},
     "nuid": "1174f328-3315-4ac9-98be-73a3d229405d",
     "showTitle": false,
     "title": ""
    }
   },
   "outputs": [
    {
     "output_type": "stream",
     "name": "stdout",
     "output_type": "stream",
     "text": [
      "+---+-----------------+---+---+---+---+---+----+---+----+-----+---+---+-----+---+---+-----+-----+---+---+-----+---+---+----+---+---+---+---+---+----+\n| Rk|           Player|Pos|Age| Tm|  G| GS|  MP| FG| FGA|  FG%| 3P|3PA|  3P%| 2P|2PA|  2P%| eFG%| FT|FTA|  FT%|ORB|DRB| TRB|AST|STL|BLK|TOV| PF| PTS|\n+---+-----------------+---+---+---+---+---+----+---+----+-----+---+---+-----+---+---+-----+-----+---+---+-----+---+---+----+---+---+---+---+---+----+\n|  4|     Santi Aldama| PF| 21|MEM| 32|  0|11.3|1.7| 4.1|0.402|0.2|1.5|0.125|1.5|2.6| 0.56|0.424|0.6|  1|0.625|  1|1.7| 2.7|0.7|0.2|0.3|0.5|1.1| 4.1|\n|  5|LaMarcus Aldridge|  C| 36|BRK| 47| 12|22.3|5.4| 9.7| 0.55|0.3|  1|0.304|5.1|8.8|0.578|0.566|1.9|2.2|0.873|1.6|3.9| 5.5|0.9|0.3|  1|0.9|1.7|12.9|\n|  8|    Jarrett Allen|  C| 23|CLE| 56| 56|32.3|6.6| 9.7|0.677|  0|0.2|  0.1|6.6|9.6|0.688|0.678|2.9|4.2|0.708|3.4|7.3|10.8|1.6|0.8|1.3|1.7|1.7|16.1|\n| 10|  Justin Anderson| SF| 28|TOT| 16|  6|19.8|2.3| 5.9|0.379|0.9|3.7|0.254|1.3|2.3|0.583|0.458|0.9|1.2|0.789|0.3|2.6| 2.9|2.1|0.5|0.4|0.5|1.4| 6.4|\n| 10|  Justin Anderson| SF| 28|CLE|  3|  0|15.7|1.3| 2.7|  0.5|0.7|  2|0.333|0.7|0.7|    1|0.625|  1|1.3| 0.75|  0|  2|   2|  2|0.3|  0|0.7|1.3| 4.3|\n| 10|  Justin Anderson| SF| 28|IND| 13|  6|20.7|2.5| 6.7|0.368|  1|4.1|0.245|1.5|2.6|0.559|0.443|0.9|1.2|  0.8|0.3|2.8| 3.1|2.1|0.5|0.5|0.5|1.4| 6.8|\n| 14|  Carmelo Anthony| PF| 37|LAL| 69|  3|  26|4.6|10.5|0.441|2.2|5.8|0.375|2.5|4.7|0.521|0.544|1.9|2.3| 0.83|0.9|3.3| 4.2|  1|0.7|0.8|0.9|2.4|13.3|\n| 15|     Cole Anthony| PG| 21|ORL| 65| 65|31.7|5.5|  14|0.391|  2|  6|0.338|3.5|  8|0.432|0.464|3.3|3.9|0.854|0.5|4.9| 5.4|5.7|0.7|0.3|2.6|2.6|16.3|\n| 17| Ryan Arcidiacono| PG| 27|NYK| 10|  0| 7.6|0.6| 1.2|  0.5|0.4|0.9|0.444|0.2|0.3|0.667|0.667|  0|  0|    0|  0|0.8| 0.8|0.4|0.1|  0|0.3|0.5| 1.6|\n| 18|     Trevor Ariza| SF| 36|LAL| 24| 11|19.3|1.4| 4.1|0.333|0.8|3.1| 0.27|0.5|  1| 0.52|0.434|0.4|0.8|0.556|0.4|  3| 3.4|1.1|0.5|0.3|0.5|0.8|   4|\n| 19|    D.J. Augustin| PG| 34|TOT| 55|  2|16.1|1.7|   4|0.423|1.2|  3|0.415|0.5|1.1|0.448|0.577|0.7|0.8|0.884|0.2|  1| 1.2|1.9|0.3|  0|  1|0.7| 5.3|\n| 19|    D.J. Augustin| PG| 34|HOU| 34|  2|  15|1.6|   4|0.404|1.1|2.8|0.406|0.5|1.2|  0.4|0.548|  1|1.1|0.868|0.2|  1| 1.2|2.2|0.3|  0|1.3|0.5| 5.4|\n| 19|    D.J. Augustin| PG| 34|LAL| 21|  0|17.8|1.9| 4.1|0.453|1.4|3.2|0.426|0.5|0.9|0.556|0.622|0.2|0.2|    1|0.2|1.1| 1.3|1.6|0.3|  0|0.5|  1| 5.3|\n| 20|      Deni Avdija| SF| 21|WAS| 82|  8|24.2|  3| 7.1|0.432|  1|3.2|0.317|  2|3.9|0.525|0.503|1.3|1.7|0.757|0.6|4.5| 5.2|  2|0.7|0.5|1.1|2.3| 8.4|\n| 21|       Joel Ayayi| SG| 21|WAS|  7|  0| 2.9|0.1| 0.9|0.167|  0|0.1|    0|0.1|0.7|  0.2|0.167|  0|  0|    0|0.1|0.3| 0.4|0.6|  0|  0|  0|  0| 0.3|\n| 23|   Udoka Azubuike|  C| 22|UTA| 17|  6|11.5|2.2| 2.9|0.755|  0|  0|    0|2.2|2.9|0.755|0.755|0.4|0.6|0.545|1.1|3.1| 4.2|  0|0.1|0.6|0.7|1.5| 4.7|\n| 24|Marvin Bagley III| PF| 22|TOT| 48| 25|23.9|4.7| 9.3|0.504|0.5|  2|0.237|4.2|7.3|0.579| 0.53|1.4|2.1|0.663|2.2|4.9|   7|0.8|0.5|0.4|0.8|1.9|11.3|\n| 24|Marvin Bagley III| PF| 22|SAC| 30| 17|21.9|3.8| 8.2|0.463|0.5|2.1|0.242|3.3|6.1|0.538|0.494|1.2|1.6|0.745|2.2|4.9| 7.2|0.6|0.3|0.4|0.7|1.7| 9.3|\n| 24|Marvin Bagley III| PF| 22|DET| 18|  8|27.2|6.2|11.1|0.555|0.4|1.9|0.229|5.7|9.2|0.624|0.575|1.8|  3|0.593|2.1|4.7| 6.8|1.1|0.7|0.4|  1|2.4|14.6|\n| 25|      LaMelo Ball| PG| 20|CHO| 75| 75|32.3|7.2|16.7|0.429|2.9|7.5|0.389|4.2|9.2|0.462|0.517|2.8|3.2|0.872|1.4|5.2| 6.7|7.6|1.6|0.4|3.3|3.2|20.1|\n+---+-----------------+---+---+---+---+---+----+---+----+-----+---+---+-----+---+---+-----+-----+---+---+-----+---+---+----+---+---+---+---+---+----+\nonly showing top 20 rows\n\n"
     ]
    }
   ],
   "source": [
    "# Verificação\n",
    "\n",
    "# Carregar e mostrar os dados atualizados da tabela da temporada regular incluindo playoffs\n",
    "updated_data = spark.read.format(\"delta\").table(\"2021_2022_NBA_Player_Stats___Regular_csv\")\n",
    "updated_data.show()\n"
   ]
  },
  {
   "cell_type": "markdown",
   "metadata": {
    "application/vnd.databricks.v1+cell": {
     "cellMetadata": {
      "byteLimit": 2048000,
      "rowLimit": 10000
     },
     "inputWidgets": {},
     "nuid": "6e653e6b-e759-4968-9aa3-55c42707be83",
     "showTitle": false,
     "title": ""
    }
   },
   "source": [
    "\n",
    "4) Os três melhores jogadores da liga na temporada completa "
   ]
  },
  {
   "cell_type": "markdown",
   "metadata": {
    "application/vnd.databricks.v1+cell": {
     "cellMetadata": {
      "byteLimit": 2048000,
      "rowLimit": 10000
     },
     "inputWidgets": {},
     "nuid": "0c4f21af-7033-40d5-8c32-10de623d9983",
     "showTitle": false,
     "title": ""
    }
   },
   "source": [
    "\n",
    "Avaliando os três melhores jogadores do campeonato com os dados atualizados da temporada completa (regular + playoffs)"
   ]
  },
  {
   "cell_type": "code",
   "execution_count": 0,
   "metadata": {
    "application/vnd.databricks.v1+cell": {
     "cellMetadata": {
      "byteLimit": 2048000,
      "implicitDf": true,
      "rowLimit": 10000
     },
     "inputWidgets": {},
     "nuid": "dcc9d1bb-22d6-43e2-95d1-cccbfdc448b2",
     "showTitle": false,
     "title": ""
    }
   },
   "outputs": [
    {
     "output_type": "display_data",
     "data": {
      "text/html": [
       "<style scoped>\n",
       "  .table-result-container {\n",
       "    max-height: 300px;\n",
       "    overflow: auto;\n",
       "  }\n",
       "  table, th, td {\n",
       "    border: 1px solid black;\n",
       "    border-collapse: collapse;\n",
       "  }\n",
       "  th, td {\n",
       "    padding: 5px;\n",
       "  }\n",
       "  th {\n",
       "    text-align: left;\n",
       "  }\n",
       "</style><div class='table-result-container'><table class='table-result'><thead style='background-color: white'><tr><th>Player</th><th>Team</th><th>Avg_Points</th><th>Avg_Rebounds</th><th>Avg_Assists</th><th>Efficiency_Score</th></tr></thead><tbody><tr><td>Giannis Antetokounmpo</td><td>MIL</td><td>31.7</td><td>14.2</td><td>6.8</td><td>52.699999999999996</td></tr><tr><td>Nikola Joki?</td><td>DEN</td><td>31.0</td><td>13.2</td><td>5.8</td><td>50.0</td></tr><tr><td>Luka Don?i?</td><td>DAL</td><td>31.7</td><td>9.8</td><td>6.4</td><td>47.9</td></tr></tbody></table></div>"
      ]
     },
     "metadata": {
      "application/vnd.databricks.v1+output": {
       "addedWidgets": {},
       "aggData": [],
       "aggError": "",
       "aggOverflow": false,
       "aggSchema": [],
       "aggSeriesLimitReached": false,
       "aggType": "",
       "arguments": {},
       "columnCustomDisplayInfos": {},
       "data": [
        [
         "Giannis Antetokounmpo",
         "MIL",
         31.7,
         14.2,
         6.8,
         52.699999999999996
        ],
        [
         "Nikola Joki?",
         "DEN",
         31.0,
         13.2,
         5.8,
         50.0
        ],
        [
         "Luka Don?i?",
         "DAL",
         31.7,
         9.8,
         6.4,
         47.9
        ]
       ],
       "datasetInfos": [],
       "dbfsResultPath": null,
       "isJsonSchema": true,
       "metadata": {},
       "overflow": false,
       "plotOptions": {
        "customPlotOptions": {},
        "displayType": "table",
        "pivotAggregation": null,
        "pivotColumns": null,
        "xColumns": null,
        "yColumns": null
       },
       "removedWidgets": [],
       "schema": [
        {
         "metadata": "{}",
         "name": "Player",
         "type": "\"string\""
        },
        {
         "metadata": "{}",
         "name": "Team",
         "type": "\"string\""
        },
        {
         "metadata": "{}",
         "name": "Avg_Points",
         "type": "\"double\""
        },
        {
         "metadata": "{}",
         "name": "Avg_Rebounds",
         "type": "\"double\""
        },
        {
         "metadata": "{}",
         "name": "Avg_Assists",
         "type": "\"double\""
        },
        {
         "metadata": "{}",
         "name": "Efficiency_Score",
         "type": "\"double\""
        }
       ],
       "type": "table"
      }
     },
     "output_type": "display_data"
    }
   ],
   "source": [
    "%sql\n",
    "\n",
    "SELECT \n",
    "    Player,\n",
    "    Tm as Team,\n",
    "    AVG(PTS) as Avg_Points,\n",
    "    AVG(TRB) as Avg_Rebounds,\n",
    "    AVG(AST) as Avg_Assists,\n",
    "    (AVG(PTS) + AVG(TRB) + AVG(AST)) as Efficiency_Score\n",
    "FROM \n",
    "    2021_2022_NBA_Player_Stats___Regular_csv\n",
    "GROUP BY \n",
    "    Player, Tm\n",
    "ORDER BY \n",
    "    Efficiency_Score DESC\n",
    "LIMIT 3;\n"
   ]
  },
  {
   "cell_type": "markdown",
   "metadata": {
    "application/vnd.databricks.v1+cell": {
     "cellMetadata": {
      "byteLimit": 2048000,
      "rowLimit": 10000
     },
     "inputWidgets": {},
     "nuid": "4f5e89dd-7c96-4a52-83e8-4e4b8e177c41",
     "showTitle": false,
     "title": ""
    }
   },
   "source": [
    "\n",
    "Os jogadores mais decisivos da temporada completa (somando pontos, rebotes e assistências por jogo) são em ordem Giannis Antetokounpo, Nikola Jokic e Luka Doncic. \n",
    "\n",
    "Na temporada NBA 2021-2022, Nikola Jokic do Denver Nuggets foi eleito o MVP da liga. Jokic liderou os Nuggets a um recorde de 48-34, apesar de ausências importantes na equipe. O Milwaukee Bucks, com Giannis Antetokounmpo, e o Philadelphia 76ers, com Joel Embiid, ambos terminaram a temporada regular com registros de 51-31. Ambos os jogadores também tiveram performances notáveis e foram finalistas para o prêmio MVP junto com Jokic. Luka Dončić teve uma temporada notável em 2021-2022, levando o Dallas Mavericks a um bom desempenho na liga. Ele continuou sendo um dos principais jogadores da NBA, demonstrando excelente habilidade em pontuação, assistências e rebotes. Sua performance geral o colocou entre os candidatos ao prêmio de MVP, embora não tenha ganho, ele ainda recebeu votos significativos na votação, refletindo seu impacto e valor para sua equipe (Sporting News)​.\n",
    "\n",
    "Esses resultados indicam um alto nível de desempenho e contribuição dos jogadores mencionados para seus respectivos times, refletindo diretamente na avaliação de suas eficácias individuais em relação às estatísticas de pontos, rebotes e assistências discutidas anteriormente.\n",
    "\n",
    "Curiosamente, nenhum dos jogadores citados foi campeão, pois o vencedor da NBA 2021-2022 foi o Golden State Warriors.\n"
   ]
  },
  {
   "cell_type": "markdown",
   "metadata": {
    "application/vnd.databricks.v1+cell": {
     "cellMetadata": {
      "byteLimit": 2048000,
      "rowLimit": 10000
     },
     "inputWidgets": {},
     "nuid": "f52f0ef2-f267-46cf-9834-619d8c841aa0",
     "showTitle": false,
     "title": ""
    }
   },
   "source": [
    "\n",
    "Análise e autoavaliação"
   ]
  },
  {
   "cell_type": "markdown",
   "metadata": {
    "application/vnd.databricks.v1+cell": {
     "cellMetadata": {
      "byteLimit": 2048000,
      "rowLimit": 10000
     },
     "inputWidgets": {},
     "nuid": "5faacad9-1fb8-4be4-8d0b-9d2d7664266a",
     "showTitle": false,
     "title": ""
    }
   },
   "source": [
    "\n",
    "Qualidade dos dados \n",
    "\n",
    "Os datasets originais estão completamente curados e já bem tratados quando disponibilizados. Uma limitação que não foi abordada neste projeto é que algum dos jogadores são listados mais uma de vez no arquivo .csv da fase regular. Isso acontece pois jogaram a liga por mais de uma equipe devido a janela de transferências. A abordagem correta a se fazer era estabelecer um pré-processamento de dados capaz de combinar as entradas do mesmo jogador em uma só. Como o tratamento de dados foi o foco do módulo passado, essa etapa foi ignorada. Outro pré-processamento menos relevante era corrigir os caracteres especiais dos nomes dos jogadores estrangeiros como por exemplo Luka Dončić ao invés de Luka Don?i?. De qualquer forma, a maior parte dos extensos dataset cumpriu o seu papel no objetivo proposto por esse projeto.\n",
    "\n",
    "Solução do problema e autoavaliação\n",
    "\n",
    "Apesar da limitação mencionada acima, todas as perguntas elaboradas na seção de objetivos foram respondidas com sucesso. Em relação aos dados, foi realizado todo o procedimento de coleta, importação, armazenamento na nuvem. Utilizou-se o modelo flat e construiu-se um catálogo de dados detalhado. Por fim, uma carga foi imposta de maneira a combinar os resultados de toda a liga em um só data lake. Desta forma, a autoavaliação é bem positiva no sentido que os objetivos foram alcançados com sucesso. Trabalhos futuros envolvem a correção de jogadores duplicados no banco de dados e trazer novos tipos de análises estatíticas em torno dos dados disponíveis. Além disso, pode-se sempre ampliar o banco de dados com os dados das temporadas seguintes. "
   ]
  }
 ],
 "metadata": {
  "application/vnd.databricks.v1+notebook": {
   "dashboards": [],
   "environmentMetadata": null,
   "language": "python",
   "notebookMetadata": {
    "mostRecentlyExecutedCommandWithImplicitDF": {
     "commandId": 3295618807797567,
     "dataframes": [
      "_sqldf"
     ]
    },
    "pythonIndentUnit": 4
   },
   "notebookName": "MVP_BD_JoaoPedroCunha",
   "widgets": {}
  }
 },
 "nbformat": 4,
 "nbformat_minor": 0
}
